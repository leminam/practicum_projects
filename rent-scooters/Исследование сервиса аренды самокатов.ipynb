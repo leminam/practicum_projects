{
 "cells": [
  {
   "cell_type": "markdown",
   "id": "d94c1965",
   "metadata": {},
   "source": [
    "**<h1>Исследование сервиса аренды самокатов GoFast**"
   ]
  },
  {
   "cell_type": "markdown",
   "id": "315bfc62",
   "metadata": {},
   "source": [
    "Цель исследования — проанализировать сервис аренды самокатов GoFast и проверить некоторые гипотезы, которые могут помочь бизнесу вырасти.\n"
   ]
  },
  {
   "cell_type": "markdown",
   "id": "e00e3579",
   "metadata": {},
   "source": [
    "Чтобы совершать поездки по городу, пользователи сервиса GoFast пользуются мобильным приложением. Сервисом можно пользоваться:\n",
    "\n",
    "без подписки\n",
    "* абонентская плата отсутствует;\n",
    "\n",
    "* стоимость одной минуты поездки — 8 рублей;\n",
    "\n",
    "* стоимость старта (начала поездки) — 50 рублей;\n",
    "\n",
    "с подпиской Ultra\n",
    "\n",
    "* абонентская плата — 199 рублей в месяц;\n",
    "\n",
    "* стоимость одной минуты поездки — 6 рублей;\n",
    "\n",
    "* стоимость старта — бесплатно."
   ]
  },
  {
   "cell_type": "markdown",
   "id": "fedabc16",
   "metadata": {},
   "source": [
    "**Описание даных:**\n",
    "\n",
    "Пользователи — users_go.csv:\n",
    "user_id — уникальный идентификатор пользователя;\n",
    "name — имя пользователя;\n",
    "age — возраст;\n",
    "city — город;\n",
    "subscription_type — тип подписки (free, ultra).\n",
    "\n",
    "Поездки — rides_go.csv:\n",
    "user_id — уникальный идентификатор пользователя;\n",
    "distance — расстояние, которое пользователь проехал в текущей сессии (в метрах);\n",
    "duration — продолжительность сессии (в минутах) — время с того момента, как пользователь нажал кнопку «Начать поездку» до момента, как он нажал кнопку «Завершить поездку»;\n",
    "date — дата совершения поездки.\n",
    "\n",
    "Подписки — subscriptions_go.csv:\n",
    "subscription_type — тип подписки;\n",
    "minute_price — стоимость одной минуты поездки по данной подписке;\n",
    "start_ride_price — стоимость начала поездки;\n",
    "subscription_fee — стоимость ежемесячного платёж.\n",
    "\n",
    "**План работ:**\n",
    "\n",
    "1. Загрузка данных\n",
    "2. Предобработка данных\n",
    "3. Исследовательский анализ данных\n",
    "4. Объединение данных\n",
    "5. Подсчёт выручки\n",
    "6. Проверка гипотез"
   ]
  },
  {
   "cell_type": "markdown",
   "id": "c42cbe00",
   "metadata": {},
   "source": [
    "#### Шаг 1. Загрузка данных"
   ]
  },
  {
   "cell_type": "code",
   "execution_count": 1,
   "id": "a7b17781",
   "metadata": {},
   "outputs": [],
   "source": [
    "import pandas as pd\n",
    "import matplotlib.pyplot as plt\n",
    "import seaborn as sns\n",
    "from plotly import graph_objects as go\n",
    "import plotly.express as px\n",
    "import numpy as np\n",
    "from scipy import stats as st\n",
    "from scipy.stats import binom, poisson, norm\n",
    "from math import sqrt, factorial\n",
    "\n",
    "plt.style.use('seaborn-pastel')"
   ]
  },
  {
   "cell_type": "code",
   "execution_count": 2,
   "id": "eff9f206",
   "metadata": {},
   "outputs": [],
   "source": [
    "users = pd.read_csv('/datasets/users_go.csv')\n",
    "rides = pd.read_csv('/datasets/rides_go.csv')\n",
    "subscriptions = pd.read_csv('/datasets/subscriptions_go.csv')"
   ]
  },
  {
   "cell_type": "code",
   "execution_count": 3,
   "id": "629b26f4",
   "metadata": {},
   "outputs": [
    {
     "data": {
      "text/html": [
       "<div>\n",
       "<style scoped>\n",
       "    .dataframe tbody tr th:only-of-type {\n",
       "        vertical-align: middle;\n",
       "    }\n",
       "\n",
       "    .dataframe tbody tr th {\n",
       "        vertical-align: top;\n",
       "    }\n",
       "\n",
       "    .dataframe thead th {\n",
       "        text-align: right;\n",
       "    }\n",
       "</style>\n",
       "<table border=\"1\" class=\"dataframe\">\n",
       "  <thead>\n",
       "    <tr style=\"text-align: right;\">\n",
       "      <th></th>\n",
       "      <th>user_id</th>\n",
       "      <th>name</th>\n",
       "      <th>age</th>\n",
       "      <th>city</th>\n",
       "      <th>subscription_type</th>\n",
       "    </tr>\n",
       "  </thead>\n",
       "  <tbody>\n",
       "    <tr>\n",
       "      <th>0</th>\n",
       "      <td>1</td>\n",
       "      <td>Кира</td>\n",
       "      <td>22</td>\n",
       "      <td>Тюмень</td>\n",
       "      <td>ultra</td>\n",
       "    </tr>\n",
       "    <tr>\n",
       "      <th>1</th>\n",
       "      <td>2</td>\n",
       "      <td>Станислав</td>\n",
       "      <td>31</td>\n",
       "      <td>Омск</td>\n",
       "      <td>ultra</td>\n",
       "    </tr>\n",
       "    <tr>\n",
       "      <th>2</th>\n",
       "      <td>3</td>\n",
       "      <td>Алексей</td>\n",
       "      <td>20</td>\n",
       "      <td>Москва</td>\n",
       "      <td>ultra</td>\n",
       "    </tr>\n",
       "    <tr>\n",
       "      <th>3</th>\n",
       "      <td>4</td>\n",
       "      <td>Константин</td>\n",
       "      <td>26</td>\n",
       "      <td>Ростов-на-Дону</td>\n",
       "      <td>ultra</td>\n",
       "    </tr>\n",
       "    <tr>\n",
       "      <th>4</th>\n",
       "      <td>5</td>\n",
       "      <td>Адель</td>\n",
       "      <td>28</td>\n",
       "      <td>Омск</td>\n",
       "      <td>ultra</td>\n",
       "    </tr>\n",
       "  </tbody>\n",
       "</table>\n",
       "</div>"
      ],
      "text/plain": [
       "   user_id        name  age            city subscription_type\n",
       "0        1        Кира   22          Тюмень             ultra\n",
       "1        2   Станислав   31            Омск             ultra\n",
       "2        3     Алексей   20          Москва             ultra\n",
       "3        4  Константин   26  Ростов-на-Дону             ultra\n",
       "4        5       Адель   28            Омск             ultra"
      ]
     },
     "execution_count": 3,
     "metadata": {},
     "output_type": "execute_result"
    }
   ],
   "source": [
    "users.head()"
   ]
  },
  {
   "cell_type": "code",
   "execution_count": 4,
   "id": "9af4f4e9",
   "metadata": {},
   "outputs": [
    {
     "data": {
      "text/html": [
       "<div>\n",
       "<style scoped>\n",
       "    .dataframe tbody tr th:only-of-type {\n",
       "        vertical-align: middle;\n",
       "    }\n",
       "\n",
       "    .dataframe tbody tr th {\n",
       "        vertical-align: top;\n",
       "    }\n",
       "\n",
       "    .dataframe thead th {\n",
       "        text-align: right;\n",
       "    }\n",
       "</style>\n",
       "<table border=\"1\" class=\"dataframe\">\n",
       "  <thead>\n",
       "    <tr style=\"text-align: right;\">\n",
       "      <th></th>\n",
       "      <th>user_id</th>\n",
       "      <th>distance</th>\n",
       "      <th>duration</th>\n",
       "      <th>date</th>\n",
       "    </tr>\n",
       "  </thead>\n",
       "  <tbody>\n",
       "    <tr>\n",
       "      <th>0</th>\n",
       "      <td>1</td>\n",
       "      <td>4409.919140</td>\n",
       "      <td>25.599769</td>\n",
       "      <td>2021-01-01</td>\n",
       "    </tr>\n",
       "    <tr>\n",
       "      <th>1</th>\n",
       "      <td>1</td>\n",
       "      <td>2617.592153</td>\n",
       "      <td>15.816871</td>\n",
       "      <td>2021-01-18</td>\n",
       "    </tr>\n",
       "    <tr>\n",
       "      <th>2</th>\n",
       "      <td>1</td>\n",
       "      <td>754.159807</td>\n",
       "      <td>6.232113</td>\n",
       "      <td>2021-04-20</td>\n",
       "    </tr>\n",
       "    <tr>\n",
       "      <th>3</th>\n",
       "      <td>1</td>\n",
       "      <td>2694.783254</td>\n",
       "      <td>18.511000</td>\n",
       "      <td>2021-08-11</td>\n",
       "    </tr>\n",
       "    <tr>\n",
       "      <th>4</th>\n",
       "      <td>1</td>\n",
       "      <td>4028.687306</td>\n",
       "      <td>26.265803</td>\n",
       "      <td>2021-08-28</td>\n",
       "    </tr>\n",
       "  </tbody>\n",
       "</table>\n",
       "</div>"
      ],
      "text/plain": [
       "   user_id     distance   duration        date\n",
       "0        1  4409.919140  25.599769  2021-01-01\n",
       "1        1  2617.592153  15.816871  2021-01-18\n",
       "2        1   754.159807   6.232113  2021-04-20\n",
       "3        1  2694.783254  18.511000  2021-08-11\n",
       "4        1  4028.687306  26.265803  2021-08-28"
      ]
     },
     "execution_count": 4,
     "metadata": {},
     "output_type": "execute_result"
    }
   ],
   "source": [
    "rides.head()"
   ]
  },
  {
   "cell_type": "code",
   "execution_count": 5,
   "id": "857e1e68",
   "metadata": {},
   "outputs": [
    {
     "data": {
      "text/html": [
       "<div>\n",
       "<style scoped>\n",
       "    .dataframe tbody tr th:only-of-type {\n",
       "        vertical-align: middle;\n",
       "    }\n",
       "\n",
       "    .dataframe tbody tr th {\n",
       "        vertical-align: top;\n",
       "    }\n",
       "\n",
       "    .dataframe thead th {\n",
       "        text-align: right;\n",
       "    }\n",
       "</style>\n",
       "<table border=\"1\" class=\"dataframe\">\n",
       "  <thead>\n",
       "    <tr style=\"text-align: right;\">\n",
       "      <th></th>\n",
       "      <th>subscription_type</th>\n",
       "      <th>minute_price</th>\n",
       "      <th>start_ride_price</th>\n",
       "      <th>subscription_fee</th>\n",
       "    </tr>\n",
       "  </thead>\n",
       "  <tbody>\n",
       "    <tr>\n",
       "      <th>0</th>\n",
       "      <td>free</td>\n",
       "      <td>8</td>\n",
       "      <td>50</td>\n",
       "      <td>0</td>\n",
       "    </tr>\n",
       "    <tr>\n",
       "      <th>1</th>\n",
       "      <td>ultra</td>\n",
       "      <td>6</td>\n",
       "      <td>0</td>\n",
       "      <td>199</td>\n",
       "    </tr>\n",
       "  </tbody>\n",
       "</table>\n",
       "</div>"
      ],
      "text/plain": [
       "  subscription_type  minute_price  start_ride_price  subscription_fee\n",
       "0              free             8                50                 0\n",
       "1             ultra             6                 0               199"
      ]
     },
     "execution_count": 5,
     "metadata": {},
     "output_type": "execute_result"
    }
   ],
   "source": [
    "subscriptions.head()"
   ]
  },
  {
   "cell_type": "markdown",
   "id": "aa7248eb",
   "metadata": {},
   "source": [
    "**Выводы:**\n",
    "\n",
    "Для исследования представлены 3 датафрейма. Первый содержит информацию о пользователях (5 колонок и 1565 строк), второй - информацию о поездах (4 колонки и 18068 строк), третий - информацию по тарифам (4 колонки и 2 строки). Критичных ошибок не обнаружено, данные пригодны для анализа."
   ]
  },
  {
   "cell_type": "markdown",
   "id": "e95ebca7",
   "metadata": {},
   "source": [
    "#### Шаг 2. Предобработка данных"
   ]
  },
  {
   "cell_type": "code",
   "execution_count": 6,
   "id": "cd7a671a",
   "metadata": {},
   "outputs": [
    {
     "name": "stdout",
     "output_type": "stream",
     "text": [
      "<class 'pandas.core.frame.DataFrame'>\n",
      "RangeIndex: 1565 entries, 0 to 1564\n",
      "Data columns (total 5 columns):\n",
      " #   Column             Non-Null Count  Dtype \n",
      "---  ------             --------------  ----- \n",
      " 0   user_id            1565 non-null   int64 \n",
      " 1   name               1565 non-null   object\n",
      " 2   age                1565 non-null   int64 \n",
      " 3   city               1565 non-null   object\n",
      " 4   subscription_type  1565 non-null   object\n",
      "dtypes: int64(2), object(3)\n",
      "memory usage: 61.3+ KB\n"
     ]
    }
   ],
   "source": [
    "users.info()"
   ]
  },
  {
   "cell_type": "code",
   "execution_count": 7,
   "id": "d488809c",
   "metadata": {},
   "outputs": [
    {
     "name": "stdout",
     "output_type": "stream",
     "text": [
      "<class 'pandas.core.frame.DataFrame'>\n",
      "RangeIndex: 18068 entries, 0 to 18067\n",
      "Data columns (total 4 columns):\n",
      " #   Column    Non-Null Count  Dtype  \n",
      "---  ------    --------------  -----  \n",
      " 0   user_id   18068 non-null  int64  \n",
      " 1   distance  18068 non-null  float64\n",
      " 2   duration  18068 non-null  float64\n",
      " 3   date      18068 non-null  object \n",
      "dtypes: float64(2), int64(1), object(1)\n",
      "memory usage: 564.8+ KB\n"
     ]
    }
   ],
   "source": [
    "rides.info()"
   ]
  },
  {
   "cell_type": "code",
   "execution_count": 8,
   "id": "af6d202c",
   "metadata": {},
   "outputs": [],
   "source": [
    "rides['date'] = pd.to_datetime(rides['date'], format=\"%Y-%m-%d\")\n",
    "#меняем тип данных на datetime"
   ]
  },
  {
   "cell_type": "code",
   "execution_count": 9,
   "id": "21cf4318",
   "metadata": {},
   "outputs": [],
   "source": [
    "rides['month'] = rides['date'].dt.month\n",
    "#добавляем столбец с месяцем"
   ]
  },
  {
   "cell_type": "code",
   "execution_count": 10,
   "id": "3a3177b2",
   "metadata": {},
   "outputs": [
    {
     "data": {
      "text/html": [
       "<div>\n",
       "<style scoped>\n",
       "    .dataframe tbody tr th:only-of-type {\n",
       "        vertical-align: middle;\n",
       "    }\n",
       "\n",
       "    .dataframe tbody tr th {\n",
       "        vertical-align: top;\n",
       "    }\n",
       "\n",
       "    .dataframe thead th {\n",
       "        text-align: right;\n",
       "    }\n",
       "</style>\n",
       "<table border=\"1\" class=\"dataframe\">\n",
       "  <thead>\n",
       "    <tr style=\"text-align: right;\">\n",
       "      <th></th>\n",
       "      <th>user_id</th>\n",
       "      <th>distance</th>\n",
       "      <th>duration</th>\n",
       "      <th>date</th>\n",
       "      <th>month</th>\n",
       "    </tr>\n",
       "  </thead>\n",
       "  <tbody>\n",
       "    <tr>\n",
       "      <th>0</th>\n",
       "      <td>1</td>\n",
       "      <td>4409.919140</td>\n",
       "      <td>25.599769</td>\n",
       "      <td>2021-01-01</td>\n",
       "      <td>1</td>\n",
       "    </tr>\n",
       "    <tr>\n",
       "      <th>1</th>\n",
       "      <td>1</td>\n",
       "      <td>2617.592153</td>\n",
       "      <td>15.816871</td>\n",
       "      <td>2021-01-18</td>\n",
       "      <td>1</td>\n",
       "    </tr>\n",
       "    <tr>\n",
       "      <th>2</th>\n",
       "      <td>1</td>\n",
       "      <td>754.159807</td>\n",
       "      <td>6.232113</td>\n",
       "      <td>2021-04-20</td>\n",
       "      <td>4</td>\n",
       "    </tr>\n",
       "    <tr>\n",
       "      <th>3</th>\n",
       "      <td>1</td>\n",
       "      <td>2694.783254</td>\n",
       "      <td>18.511000</td>\n",
       "      <td>2021-08-11</td>\n",
       "      <td>8</td>\n",
       "    </tr>\n",
       "    <tr>\n",
       "      <th>4</th>\n",
       "      <td>1</td>\n",
       "      <td>4028.687306</td>\n",
       "      <td>26.265803</td>\n",
       "      <td>2021-08-28</td>\n",
       "      <td>8</td>\n",
       "    </tr>\n",
       "  </tbody>\n",
       "</table>\n",
       "</div>"
      ],
      "text/plain": [
       "   user_id     distance   duration       date  month\n",
       "0        1  4409.919140  25.599769 2021-01-01      1\n",
       "1        1  2617.592153  15.816871 2021-01-18      1\n",
       "2        1   754.159807   6.232113 2021-04-20      4\n",
       "3        1  2694.783254  18.511000 2021-08-11      8\n",
       "4        1  4028.687306  26.265803 2021-08-28      8"
      ]
     },
     "execution_count": 10,
     "metadata": {},
     "output_type": "execute_result"
    }
   ],
   "source": [
    "rides.head()"
   ]
  },
  {
   "cell_type": "code",
   "execution_count": 11,
   "id": "ed1d78f9",
   "metadata": {},
   "outputs": [
    {
     "name": "stdout",
     "output_type": "stream",
     "text": [
      "<class 'pandas.core.frame.DataFrame'>\n",
      "RangeIndex: 2 entries, 0 to 1\n",
      "Data columns (total 4 columns):\n",
      " #   Column             Non-Null Count  Dtype \n",
      "---  ------             --------------  ----- \n",
      " 0   subscription_type  2 non-null      object\n",
      " 1   minute_price       2 non-null      int64 \n",
      " 2   start_ride_price   2 non-null      int64 \n",
      " 3   subscription_fee   2 non-null      int64 \n",
      "dtypes: int64(3), object(1)\n",
      "memory usage: 192.0+ bytes\n"
     ]
    }
   ],
   "source": [
    "subscriptions.info()"
   ]
  },
  {
   "cell_type": "markdown",
   "id": "2ed3b01d",
   "metadata": {},
   "source": [
    "Проверим пропуски в данных"
   ]
  },
  {
   "cell_type": "code",
   "execution_count": 12,
   "id": "29773988",
   "metadata": {},
   "outputs": [
    {
     "data": {
      "text/plain": [
       "user_id              0\n",
       "name                 0\n",
       "age                  0\n",
       "city                 0\n",
       "subscription_type    0\n",
       "dtype: int64"
      ]
     },
     "execution_count": 12,
     "metadata": {},
     "output_type": "execute_result"
    }
   ],
   "source": [
    "users.isna().sum()"
   ]
  },
  {
   "cell_type": "code",
   "execution_count": 13,
   "id": "54c8c912",
   "metadata": {},
   "outputs": [
    {
     "data": {
      "text/plain": [
       "user_id     0\n",
       "distance    0\n",
       "duration    0\n",
       "date        0\n",
       "month       0\n",
       "dtype: int64"
      ]
     },
     "execution_count": 13,
     "metadata": {},
     "output_type": "execute_result"
    }
   ],
   "source": [
    "rides.isna().sum()"
   ]
  },
  {
   "cell_type": "code",
   "execution_count": 14,
   "id": "a3a0997f",
   "metadata": {},
   "outputs": [
    {
     "data": {
      "text/plain": [
       "subscription_type    0\n",
       "minute_price         0\n",
       "start_ride_price     0\n",
       "subscription_fee     0\n",
       "dtype: int64"
      ]
     },
     "execution_count": 14,
     "metadata": {},
     "output_type": "execute_result"
    }
   ],
   "source": [
    "subscriptions.isna().sum()"
   ]
  },
  {
   "cell_type": "markdown",
   "id": "f3cd5633",
   "metadata": {},
   "source": [
    "Проверим явные дубликаты"
   ]
  },
  {
   "cell_type": "code",
   "execution_count": 15,
   "id": "4c6fe51d",
   "metadata": {},
   "outputs": [
    {
     "data": {
      "text/plain": [
       "31"
      ]
     },
     "execution_count": 15,
     "metadata": {},
     "output_type": "execute_result"
    }
   ],
   "source": [
    "users.duplicated().sum()"
   ]
  },
  {
   "cell_type": "code",
   "execution_count": 16,
   "id": "78864155",
   "metadata": {},
   "outputs": [
    {
     "data": {
      "text/plain": [
       "1565"
      ]
     },
     "execution_count": 16,
     "metadata": {},
     "output_type": "execute_result"
    }
   ],
   "source": [
    "temp = len(users) #до удаления дубликатов\n",
    "temp"
   ]
  },
  {
   "cell_type": "code",
   "execution_count": 17,
   "id": "fa3d6144",
   "metadata": {},
   "outputs": [],
   "source": [
    "users = users.drop_duplicates()\n",
    "#удалим дубликаты"
   ]
  },
  {
   "cell_type": "code",
   "execution_count": 18,
   "id": "2df165cf",
   "metadata": {},
   "outputs": [
    {
     "data": {
      "text/plain": [
       "1534"
      ]
     },
     "execution_count": 18,
     "metadata": {},
     "output_type": "execute_result"
    }
   ],
   "source": [
    "users_len = len(users) #после удаления дубликатов\n",
    "users_len"
   ]
  },
  {
   "cell_type": "code",
   "execution_count": 19,
   "id": "dbd8d747",
   "metadata": {},
   "outputs": [
    {
     "data": {
      "text/plain": [
       "0"
      ]
     },
     "execution_count": 19,
     "metadata": {},
     "output_type": "execute_result"
    }
   ],
   "source": [
    "users.duplicated().sum()"
   ]
  },
  {
   "cell_type": "code",
   "execution_count": 20,
   "id": "2e283a8b",
   "metadata": {},
   "outputs": [
    {
     "data": {
      "text/plain": [
       "0"
      ]
     },
     "execution_count": 20,
     "metadata": {},
     "output_type": "execute_result"
    }
   ],
   "source": [
    "rides.duplicated().sum()"
   ]
  },
  {
   "cell_type": "code",
   "execution_count": 21,
   "id": "885779c2",
   "metadata": {},
   "outputs": [
    {
     "data": {
      "text/plain": [
       "0"
      ]
     },
     "execution_count": 21,
     "metadata": {},
     "output_type": "execute_result"
    }
   ],
   "source": [
    "subscriptions.duplicated().sum()"
   ]
  },
  {
   "cell_type": "markdown",
   "id": "cfc90504",
   "metadata": {},
   "source": [
    "Проверим неявные дубликаты"
   ]
  },
  {
   "cell_type": "code",
   "execution_count": 22,
   "id": "1ae67ac5",
   "metadata": {},
   "outputs": [
    {
     "data": {
      "text/plain": [
       "array(['Тюмень', 'Омск', 'Москва', 'Ростов-на-Дону', 'Краснодар',\n",
       "       'Пятигорск', 'Екатеринбург', 'Сочи'], dtype=object)"
      ]
     },
     "execution_count": 22,
     "metadata": {},
     "output_type": "execute_result"
    }
   ],
   "source": [
    "users['city'].unique()"
   ]
  },
  {
   "cell_type": "code",
   "execution_count": 23,
   "id": "dfe7e108",
   "metadata": {},
   "outputs": [
    {
     "data": {
      "text/plain": [
       "array([22, 31, 20, 26, 28, 25, 23, 21, 18, 27, 24, 29, 32, 14, 19, 30, 17,\n",
       "       12, 35, 33, 13, 15, 37, 16, 34, 38, 36, 39, 43])"
      ]
     },
     "execution_count": 23,
     "metadata": {},
     "output_type": "execute_result"
    }
   ],
   "source": [
    "users['age'].unique()"
   ]
  },
  {
   "cell_type": "code",
   "execution_count": 24,
   "id": "f5d6f493",
   "metadata": {},
   "outputs": [
    {
     "data": {
      "text/plain": [
       "array(['ultra', 'free'], dtype=object)"
      ]
     },
     "execution_count": 24,
     "metadata": {},
     "output_type": "execute_result"
    }
   ],
   "source": [
    "users['subscription_type'].unique()"
   ]
  },
  {
   "cell_type": "markdown",
   "id": "7cf58dce",
   "metadata": {},
   "source": [
    "**Выводы:**\n",
    "\n",
    "В результате предобработки данных был исправлен формат некоторых столбов, столбец с датой поездки ['date'] переведен в верный формат datetime. Добавлен новый столбец с месяцем поездки. Все три датасета проверены на пропуски и дубликаты. Явные дубликаты удалены, остальные данные проверены и пригодны для анализа."
   ]
  },
  {
   "cell_type": "code",
   "execution_count": 25,
   "id": "edba99cd",
   "metadata": {},
   "outputs": [
    {
     "data": {
      "text/plain": [
       "count    18068.000000\n",
       "mean        17.805011\n",
       "std          6.091051\n",
       "min          0.500000\n",
       "25%         13.597563\n",
       "50%         17.678395\n",
       "75%         21.724800\n",
       "max         40.823963\n",
       "Name: duration, dtype: float64"
      ]
     },
     "execution_count": 25,
     "metadata": {},
     "output_type": "execute_result"
    }
   ],
   "source": [
    "#проверим длительность поездок\n",
    "rides['duration'].describe()"
   ]
  },
  {
   "cell_type": "code",
   "execution_count": 26,
   "id": "a1cd8852",
   "metadata": {},
   "outputs": [
    {
     "data": {
      "text/html": [
       "<div>\n",
       "<style scoped>\n",
       "    .dataframe tbody tr th:only-of-type {\n",
       "        vertical-align: middle;\n",
       "    }\n",
       "\n",
       "    .dataframe tbody tr th {\n",
       "        vertical-align: top;\n",
       "    }\n",
       "\n",
       "    .dataframe thead th {\n",
       "        text-align: right;\n",
       "    }\n",
       "</style>\n",
       "<table border=\"1\" class=\"dataframe\">\n",
       "  <thead>\n",
       "    <tr style=\"text-align: right;\">\n",
       "      <th></th>\n",
       "      <th>user_id</th>\n",
       "      <th>distance</th>\n",
       "      <th>duration</th>\n",
       "      <th>date</th>\n",
       "      <th>month</th>\n",
       "    </tr>\n",
       "  </thead>\n",
       "  <tbody>\n",
       "    <tr>\n",
       "      <th>42</th>\n",
       "      <td>4</td>\n",
       "      <td>4649.488243</td>\n",
       "      <td>35.896929</td>\n",
       "      <td>2021-08-14</td>\n",
       "      <td>8</td>\n",
       "    </tr>\n",
       "    <tr>\n",
       "      <th>143</th>\n",
       "      <td>15</td>\n",
       "      <td>4187.621459</td>\n",
       "      <td>38.125729</td>\n",
       "      <td>2021-01-13</td>\n",
       "      <td>1</td>\n",
       "    </tr>\n",
       "    <tr>\n",
       "      <th>499</th>\n",
       "      <td>55</td>\n",
       "      <td>4151.081878</td>\n",
       "      <td>36.906491</td>\n",
       "      <td>2021-06-30</td>\n",
       "      <td>6</td>\n",
       "    </tr>\n",
       "    <tr>\n",
       "      <th>524</th>\n",
       "      <td>58</td>\n",
       "      <td>4763.920660</td>\n",
       "      <td>35.819603</td>\n",
       "      <td>2021-02-17</td>\n",
       "      <td>2</td>\n",
       "    </tr>\n",
       "    <tr>\n",
       "      <th>854</th>\n",
       "      <td>91</td>\n",
       "      <td>4444.579979</td>\n",
       "      <td>35.222900</td>\n",
       "      <td>2021-11-05</td>\n",
       "      <td>11</td>\n",
       "    </tr>\n",
       "    <tr>\n",
       "      <th>1111</th>\n",
       "      <td>119</td>\n",
       "      <td>4060.082639</td>\n",
       "      <td>35.360496</td>\n",
       "      <td>2021-05-15</td>\n",
       "      <td>5</td>\n",
       "    </tr>\n",
       "    <tr>\n",
       "      <th>1455</th>\n",
       "      <td>158</td>\n",
       "      <td>3967.285849</td>\n",
       "      <td>35.803715</td>\n",
       "      <td>2021-05-09</td>\n",
       "      <td>5</td>\n",
       "    </tr>\n",
       "    <tr>\n",
       "      <th>1621</th>\n",
       "      <td>174</td>\n",
       "      <td>3794.401307</td>\n",
       "      <td>35.766408</td>\n",
       "      <td>2021-12-23</td>\n",
       "      <td>12</td>\n",
       "    </tr>\n",
       "    <tr>\n",
       "      <th>1694</th>\n",
       "      <td>183</td>\n",
       "      <td>4473.798120</td>\n",
       "      <td>36.402535</td>\n",
       "      <td>2021-01-02</td>\n",
       "      <td>1</td>\n",
       "    </tr>\n",
       "    <tr>\n",
       "      <th>1894</th>\n",
       "      <td>205</td>\n",
       "      <td>4218.386189</td>\n",
       "      <td>36.310317</td>\n",
       "      <td>2021-08-26</td>\n",
       "      <td>8</td>\n",
       "    </tr>\n",
       "  </tbody>\n",
       "</table>\n",
       "</div>"
      ],
      "text/plain": [
       "      user_id     distance   duration       date  month\n",
       "42          4  4649.488243  35.896929 2021-08-14      8\n",
       "143        15  4187.621459  38.125729 2021-01-13      1\n",
       "499        55  4151.081878  36.906491 2021-06-30      6\n",
       "524        58  4763.920660  35.819603 2021-02-17      2\n",
       "854        91  4444.579979  35.222900 2021-11-05     11\n",
       "1111      119  4060.082639  35.360496 2021-05-15      5\n",
       "1455      158  3967.285849  35.803715 2021-05-09      5\n",
       "1621      174  3794.401307  35.766408 2021-12-23     12\n",
       "1694      183  4473.798120  36.402535 2021-01-02      1\n",
       "1894      205  4218.386189  36.310317 2021-08-26      8"
      ]
     },
     "execution_count": 26,
     "metadata": {},
     "output_type": "execute_result"
    }
   ],
   "source": [
    "#проверим поездки дольше 35 минут\n",
    "rides.query('duration > 35').head(10)"
   ]
  },
  {
   "cell_type": "code",
   "execution_count": 27,
   "id": "9dcc36ef",
   "metadata": {},
   "outputs": [
    {
     "data": {
      "text/plain": [
       "4391.674043923479"
      ]
     },
     "execution_count": 27,
     "metadata": {},
     "output_type": "execute_result"
    }
   ],
   "source": [
    "filtered_rides_duration = rides.query('duration > 35')\n",
    "mean_distance = filtered_rides_duration['distance'].mean()\n",
    "mean_distance"
   ]
  },
  {
   "cell_type": "markdown",
   "id": "bc0203b6",
   "metadata": {},
   "source": [
    "Среднее значение по поездкам свыше 35 минут - 4391 метров, аномалий не выявлено"
   ]
  },
  {
   "cell_type": "code",
   "execution_count": 28,
   "id": "65d147fe",
   "metadata": {},
   "outputs": [
    {
     "data": {
      "text/plain": [
       "count    18068.000000\n",
       "mean      3070.659976\n",
       "std       1116.831209\n",
       "min          0.855683\n",
       "25%       2543.226360\n",
       "50%       3133.609994\n",
       "75%       3776.222735\n",
       "max       7211.007745\n",
       "Name: distance, dtype: float64"
      ]
     },
     "execution_count": 28,
     "metadata": {},
     "output_type": "execute_result"
    }
   ],
   "source": [
    "#проверим расстояние в поездках\n",
    "rides['distance'].describe()"
   ]
  },
  {
   "cell_type": "code",
   "execution_count": 29,
   "id": "c8c40c6b",
   "metadata": {},
   "outputs": [
    {
     "data": {
      "text/html": [
       "<div>\n",
       "<style scoped>\n",
       "    .dataframe tbody tr th:only-of-type {\n",
       "        vertical-align: middle;\n",
       "    }\n",
       "\n",
       "    .dataframe tbody tr th {\n",
       "        vertical-align: top;\n",
       "    }\n",
       "\n",
       "    .dataframe thead th {\n",
       "        text-align: right;\n",
       "    }\n",
       "</style>\n",
       "<table border=\"1\" class=\"dataframe\">\n",
       "  <thead>\n",
       "    <tr style=\"text-align: right;\">\n",
       "      <th></th>\n",
       "      <th>user_id</th>\n",
       "      <th>distance</th>\n",
       "      <th>duration</th>\n",
       "      <th>date</th>\n",
       "      <th>month</th>\n",
       "    </tr>\n",
       "  </thead>\n",
       "  <tbody>\n",
       "    <tr>\n",
       "      <th>6860</th>\n",
       "      <td>724</td>\n",
       "      <td>6225.520342</td>\n",
       "      <td>0.500000</td>\n",
       "      <td>2021-12-16</td>\n",
       "      <td>12</td>\n",
       "    </tr>\n",
       "    <tr>\n",
       "      <th>7043</th>\n",
       "      <td>737</td>\n",
       "      <td>6386.938020</td>\n",
       "      <td>25.967345</td>\n",
       "      <td>2021-07-31</td>\n",
       "      <td>7</td>\n",
       "    </tr>\n",
       "    <tr>\n",
       "      <th>7052</th>\n",
       "      <td>738</td>\n",
       "      <td>6059.653105</td>\n",
       "      <td>21.149133</td>\n",
       "      <td>2021-05-02</td>\n",
       "      <td>5</td>\n",
       "    </tr>\n",
       "    <tr>\n",
       "      <th>7185</th>\n",
       "      <td>747</td>\n",
       "      <td>6010.194283</td>\n",
       "      <td>18.025486</td>\n",
       "      <td>2021-03-10</td>\n",
       "      <td>3</td>\n",
       "    </tr>\n",
       "    <tr>\n",
       "      <th>7612</th>\n",
       "      <td>780</td>\n",
       "      <td>6112.644835</td>\n",
       "      <td>0.500000</td>\n",
       "      <td>2021-11-23</td>\n",
       "      <td>11</td>\n",
       "    </tr>\n",
       "    <tr>\n",
       "      <th>7617</th>\n",
       "      <td>781</td>\n",
       "      <td>6105.098017</td>\n",
       "      <td>19.210196</td>\n",
       "      <td>2021-01-11</td>\n",
       "      <td>1</td>\n",
       "    </tr>\n",
       "    <tr>\n",
       "      <th>7632</th>\n",
       "      <td>781</td>\n",
       "      <td>6086.437000</td>\n",
       "      <td>26.877662</td>\n",
       "      <td>2021-12-21</td>\n",
       "      <td>12</td>\n",
       "    </tr>\n",
       "    <tr>\n",
       "      <th>7635</th>\n",
       "      <td>782</td>\n",
       "      <td>6395.396068</td>\n",
       "      <td>28.982735</td>\n",
       "      <td>2021-02-22</td>\n",
       "      <td>2</td>\n",
       "    </tr>\n",
       "    <tr>\n",
       "      <th>7830</th>\n",
       "      <td>795</td>\n",
       "      <td>6262.302747</td>\n",
       "      <td>0.500000</td>\n",
       "      <td>2021-09-09</td>\n",
       "      <td>9</td>\n",
       "    </tr>\n",
       "    <tr>\n",
       "      <th>7913</th>\n",
       "      <td>803</td>\n",
       "      <td>6427.053056</td>\n",
       "      <td>16.854106</td>\n",
       "      <td>2021-01-05</td>\n",
       "      <td>1</td>\n",
       "    </tr>\n",
       "  </tbody>\n",
       "</table>\n",
       "</div>"
      ],
      "text/plain": [
       "      user_id     distance   duration       date  month\n",
       "6860      724  6225.520342   0.500000 2021-12-16     12\n",
       "7043      737  6386.938020  25.967345 2021-07-31      7\n",
       "7052      738  6059.653105  21.149133 2021-05-02      5\n",
       "7185      747  6010.194283  18.025486 2021-03-10      3\n",
       "7612      780  6112.644835   0.500000 2021-11-23     11\n",
       "7617      781  6105.098017  19.210196 2021-01-11      1\n",
       "7632      781  6086.437000  26.877662 2021-12-21     12\n",
       "7635      782  6395.396068  28.982735 2021-02-22      2\n",
       "7830      795  6262.302747   0.500000 2021-09-09      9\n",
       "7913      803  6427.053056  16.854106 2021-01-05      1"
      ]
     },
     "execution_count": 29,
     "metadata": {},
     "output_type": "execute_result"
    }
   ],
   "source": [
    "#проверим расстояние свыше 6000 метров\n",
    "rides.query('distance > 6000').head(10)"
   ]
  },
  {
   "cell_type": "code",
   "execution_count": 30,
   "id": "82dec03e",
   "metadata": {},
   "outputs": [
    {
     "data": {
      "text/html": [
       "<div>\n",
       "<style scoped>\n",
       "    .dataframe tbody tr th:only-of-type {\n",
       "        vertical-align: middle;\n",
       "    }\n",
       "\n",
       "    .dataframe tbody tr th {\n",
       "        vertical-align: top;\n",
       "    }\n",
       "\n",
       "    .dataframe thead th {\n",
       "        text-align: right;\n",
       "    }\n",
       "</style>\n",
       "<table border=\"1\" class=\"dataframe\">\n",
       "  <thead>\n",
       "    <tr style=\"text-align: right;\">\n",
       "      <th></th>\n",
       "      <th>user_id</th>\n",
       "      <th>distance</th>\n",
       "      <th>duration</th>\n",
       "      <th>date</th>\n",
       "      <th>month</th>\n",
       "    </tr>\n",
       "  </thead>\n",
       "  <tbody>\n",
       "    <tr>\n",
       "      <th>6860</th>\n",
       "      <td>724</td>\n",
       "      <td>6225.520342</td>\n",
       "      <td>0.5</td>\n",
       "      <td>2021-12-16</td>\n",
       "      <td>12</td>\n",
       "    </tr>\n",
       "    <tr>\n",
       "      <th>7612</th>\n",
       "      <td>780</td>\n",
       "      <td>6112.644835</td>\n",
       "      <td>0.5</td>\n",
       "      <td>2021-11-23</td>\n",
       "      <td>11</td>\n",
       "    </tr>\n",
       "    <tr>\n",
       "      <th>7830</th>\n",
       "      <td>795</td>\n",
       "      <td>6262.302747</td>\n",
       "      <td>0.5</td>\n",
       "      <td>2021-09-09</td>\n",
       "      <td>9</td>\n",
       "    </tr>\n",
       "    <tr>\n",
       "      <th>9622</th>\n",
       "      <td>931</td>\n",
       "      <td>6002.236438</td>\n",
       "      <td>0.5</td>\n",
       "      <td>2021-11-10</td>\n",
       "      <td>11</td>\n",
       "    </tr>\n",
       "    <tr>\n",
       "      <th>11385</th>\n",
       "      <td>1057</td>\n",
       "      <td>6601.197575</td>\n",
       "      <td>0.5</td>\n",
       "      <td>2021-02-07</td>\n",
       "      <td>2</td>\n",
       "    </tr>\n",
       "    <tr>\n",
       "      <th>13701</th>\n",
       "      <td>1224</td>\n",
       "      <td>6414.516026</td>\n",
       "      <td>0.5</td>\n",
       "      <td>2021-07-15</td>\n",
       "      <td>7</td>\n",
       "    </tr>\n",
       "    <tr>\n",
       "      <th>14178</th>\n",
       "      <td>1257</td>\n",
       "      <td>6120.067697</td>\n",
       "      <td>0.5</td>\n",
       "      <td>2021-03-16</td>\n",
       "      <td>3</td>\n",
       "    </tr>\n",
       "    <tr>\n",
       "      <th>14574</th>\n",
       "      <td>1285</td>\n",
       "      <td>6316.574814</td>\n",
       "      <td>0.5</td>\n",
       "      <td>2021-09-25</td>\n",
       "      <td>9</td>\n",
       "    </tr>\n",
       "    <tr>\n",
       "      <th>16309</th>\n",
       "      <td>1411</td>\n",
       "      <td>7211.007745</td>\n",
       "      <td>0.5</td>\n",
       "      <td>2021-04-15</td>\n",
       "      <td>4</td>\n",
       "    </tr>\n",
       "    <tr>\n",
       "      <th>17242</th>\n",
       "      <td>1477</td>\n",
       "      <td>6724.932981</td>\n",
       "      <td>0.5</td>\n",
       "      <td>2021-01-12</td>\n",
       "      <td>1</td>\n",
       "    </tr>\n",
       "  </tbody>\n",
       "</table>\n",
       "</div>"
      ],
      "text/plain": [
       "       user_id     distance  duration       date  month\n",
       "6860       724  6225.520342       0.5 2021-12-16     12\n",
       "7612       780  6112.644835       0.5 2021-11-23     11\n",
       "7830       795  6262.302747       0.5 2021-09-09      9\n",
       "9622       931  6002.236438       0.5 2021-11-10     11\n",
       "11385     1057  6601.197575       0.5 2021-02-07      2\n",
       "13701     1224  6414.516026       0.5 2021-07-15      7\n",
       "14178     1257  6120.067697       0.5 2021-03-16      3\n",
       "14574     1285  6316.574814       0.5 2021-09-25      9\n",
       "16309     1411  7211.007745       0.5 2021-04-15      4\n",
       "17242     1477  6724.932981       0.5 2021-01-12      1"
      ]
     },
     "execution_count": 30,
     "metadata": {},
     "output_type": "execute_result"
    }
   ],
   "source": [
    "#видим длительность меньше 1, отфильтруем\n",
    "rides.query('distance > 6000 & duration < 5')"
   ]
  },
  {
   "cell_type": "markdown",
   "id": "7021d79b",
   "metadata": {},
   "source": [
    "В данных обнаружено несоответствие длительности поездки и времени в пути. Так как все значения равны 0,5, можно сделать предположение, что это время в часах - 0,5 часа - 30 минут."
   ]
  },
  {
   "cell_type": "markdown",
   "id": "212593c7",
   "metadata": {},
   "source": [
    "#### Шаг 3. Исследовательский анализ данных"
   ]
  },
  {
   "cell_type": "markdown",
   "id": "9a217b25",
   "metadata": {},
   "source": [
    "3.1 Частота встречаемости городов"
   ]
  },
  {
   "cell_type": "code",
   "execution_count": 31,
   "id": "27b52ccc",
   "metadata": {},
   "outputs": [
    {
     "data": {
      "text/html": [
       "<div>\n",
       "<style scoped>\n",
       "    .dataframe tbody tr th:only-of-type {\n",
       "        vertical-align: middle;\n",
       "    }\n",
       "\n",
       "    .dataframe tbody tr th {\n",
       "        vertical-align: top;\n",
       "    }\n",
       "\n",
       "    .dataframe thead th {\n",
       "        text-align: right;\n",
       "    }\n",
       "</style>\n",
       "<table border=\"1\" class=\"dataframe\">\n",
       "  <thead>\n",
       "    <tr style=\"text-align: right;\">\n",
       "      <th></th>\n",
       "      <th>city</th>\n",
       "      <th>user_id</th>\n",
       "      <th>percentage</th>\n",
       "    </tr>\n",
       "  </thead>\n",
       "  <tbody>\n",
       "    <tr>\n",
       "      <th>0</th>\n",
       "      <td>Пятигорск</td>\n",
       "      <td>219</td>\n",
       "      <td>14.28</td>\n",
       "    </tr>\n",
       "    <tr>\n",
       "      <th>1</th>\n",
       "      <td>Екатеринбург</td>\n",
       "      <td>204</td>\n",
       "      <td>13.30</td>\n",
       "    </tr>\n",
       "    <tr>\n",
       "      <th>2</th>\n",
       "      <td>Ростов-на-Дону</td>\n",
       "      <td>198</td>\n",
       "      <td>12.91</td>\n",
       "    </tr>\n",
       "    <tr>\n",
       "      <th>3</th>\n",
       "      <td>Краснодар</td>\n",
       "      <td>193</td>\n",
       "      <td>12.58</td>\n",
       "    </tr>\n",
       "    <tr>\n",
       "      <th>4</th>\n",
       "      <td>Сочи</td>\n",
       "      <td>189</td>\n",
       "      <td>12.32</td>\n",
       "    </tr>\n",
       "    <tr>\n",
       "      <th>5</th>\n",
       "      <td>Омск</td>\n",
       "      <td>183</td>\n",
       "      <td>11.93</td>\n",
       "    </tr>\n",
       "    <tr>\n",
       "      <th>6</th>\n",
       "      <td>Тюмень</td>\n",
       "      <td>180</td>\n",
       "      <td>11.73</td>\n",
       "    </tr>\n",
       "    <tr>\n",
       "      <th>7</th>\n",
       "      <td>Москва</td>\n",
       "      <td>168</td>\n",
       "      <td>10.95</td>\n",
       "    </tr>\n",
       "  </tbody>\n",
       "</table>\n",
       "</div>"
      ],
      "text/plain": [
       "             city  user_id  percentage\n",
       "0       Пятигорск      219       14.28\n",
       "1    Екатеринбург      204       13.30\n",
       "2  Ростов-на-Дону      198       12.91\n",
       "3       Краснодар      193       12.58\n",
       "4            Сочи      189       12.32\n",
       "5            Омск      183       11.93\n",
       "6          Тюмень      180       11.73\n",
       "7          Москва      168       10.95"
      ]
     },
     "execution_count": 31,
     "metadata": {},
     "output_type": "execute_result"
    }
   ],
   "source": [
    "city_count = users.groupby('city')['user_id'].count().sort_values(ascending=False).reset_index()\n",
    "city_count['percentage'] = (city_count['user_id'] / users['user_id'].count() * 100).round(2)\n",
    "city_count"
   ]
  },
  {
   "cell_type": "code",
   "execution_count": 32,
   "id": "113e9796",
   "metadata": {},
   "outputs": [
    {
     "data": {
      "image/png": "[encoded data removed]",
      "text/plain": [
       "<Figure size 720x360 with 1 Axes>"
      ]
     },
     "metadata": {
      "needs_background": "light"
     },
     "output_type": "display_data"
    }
   ],
   "source": [
    "plt.figure(figsize=(10, 5))\n",
    "ax = sns.barplot(x='user_id', y='city', data=city_count)\n",
    "plt.title('Частота встречаемости городов')\n",
    "plt.xlabel('Количество пользователей')\n",
    "plt.ylabel('Города')\n",
    "plt.show()"
   ]
  },
  {
   "cell_type": "markdown",
   "id": "4030c0c5",
   "metadata": {},
   "source": [
    "Из графика видно, что больше всего пользователей из Пятигорска (14,28%), Екатеринбурга (13,30%) и Ростова-на-Дону (12,91%). Меньше всего из Москвы - 10,95%"
   ]
  },
  {
   "cell_type": "markdown",
   "id": "59ecb80e",
   "metadata": {},
   "source": [
    "3.2 Соотношение пользователей с подпиской и без подписки"
   ]
  },
  {
   "cell_type": "code",
   "execution_count": 33,
   "id": "e5dd8ae8",
   "metadata": {},
   "outputs": [
    {
     "data": {
      "text/html": [
       "<div>\n",
       "<style scoped>\n",
       "    .dataframe tbody tr th:only-of-type {\n",
       "        vertical-align: middle;\n",
       "    }\n",
       "\n",
       "    .dataframe tbody tr th {\n",
       "        vertical-align: top;\n",
       "    }\n",
       "\n",
       "    .dataframe thead th {\n",
       "        text-align: right;\n",
       "    }\n",
       "</style>\n",
       "<table border=\"1\" class=\"dataframe\">\n",
       "  <thead>\n",
       "    <tr style=\"text-align: right;\">\n",
       "      <th></th>\n",
       "      <th>subscription_type</th>\n",
       "      <th>user_id</th>\n",
       "      <th>percentage</th>\n",
       "    </tr>\n",
       "  </thead>\n",
       "  <tbody>\n",
       "    <tr>\n",
       "      <th>0</th>\n",
       "      <td>free</td>\n",
       "      <td>835</td>\n",
       "      <td>54.43</td>\n",
       "    </tr>\n",
       "    <tr>\n",
       "      <th>1</th>\n",
       "      <td>ultra</td>\n",
       "      <td>699</td>\n",
       "      <td>45.57</td>\n",
       "    </tr>\n",
       "  </tbody>\n",
       "</table>\n",
       "</div>"
      ],
      "text/plain": [
       "  subscription_type  user_id  percentage\n",
       "0              free      835       54.43\n",
       "1             ultra      699       45.57"
      ]
     },
     "execution_count": 33,
     "metadata": {},
     "output_type": "execute_result"
    }
   ],
   "source": [
    "subscription_count = users.groupby('subscription_type')['user_id'].count().sort_values(ascending=False).reset_index()\n",
    "subscription_count['percentage'] = (subscription_count['user_id'] / users['user_id'].count() * 100).round(2)\n",
    "subscription_count"
   ]
  },
  {
   "cell_type": "code",
   "execution_count": 34,
   "id": "cfe2d627",
   "metadata": {},
   "outputs": [
    {
     "data": {
      "image/png": "[encoded data removed]",
      "text/plain": [
       "<Figure size 432x432 with 1 Axes>"
      ]
     },
     "metadata": {},
     "output_type": "display_data"
    }
   ],
   "source": [
    "counts = subscription_count['user_id']\n",
    "labels = subscription_count['subscription_type']\n",
    "\n",
    "# Вычисление углов для каждого сегмента\n",
    "angles = counts / counts.sum() * 360\n",
    "\n",
    "# Строим график\n",
    "plt.figure(figsize=(6, 6))\n",
    "plt.pie(counts, labels=labels, autopct='%1.1f%%', startangle=90)\n",
    "plt.title('Соотношение пользователей с подпиской и без подписки')\n",
    "plt.show()"
   ]
  },
  {
   "cell_type": "markdown",
   "id": "0077cabc",
   "metadata": {},
   "source": [
    "Больше половины пользователей пользуются самокатами без подписки (54,4%), остальная часть пользователей оплачивает подписку (45,6%)."
   ]
  },
  {
   "cell_type": "code",
   "execution_count": 35,
   "id": "985670ed",
   "metadata": {},
   "outputs": [
    {
     "data": {
      "text/html": [
       "<div>\n",
       "<style scoped>\n",
       "    .dataframe tbody tr th:only-of-type {\n",
       "        vertical-align: middle;\n",
       "    }\n",
       "\n",
       "    .dataframe tbody tr th {\n",
       "        vertical-align: top;\n",
       "    }\n",
       "\n",
       "    .dataframe thead th {\n",
       "        text-align: right;\n",
       "    }\n",
       "</style>\n",
       "<table border=\"1\" class=\"dataframe\">\n",
       "  <thead>\n",
       "    <tr style=\"text-align: right;\">\n",
       "      <th></th>\n",
       "      <th>age</th>\n",
       "      <th>user_id</th>\n",
       "      <th>percentage</th>\n",
       "    </tr>\n",
       "  </thead>\n",
       "  <tbody>\n",
       "    <tr>\n",
       "      <th>0</th>\n",
       "      <td>25</td>\n",
       "      <td>145</td>\n",
       "      <td>9.45</td>\n",
       "    </tr>\n",
       "    <tr>\n",
       "      <th>1</th>\n",
       "      <td>24</td>\n",
       "      <td>132</td>\n",
       "      <td>8.60</td>\n",
       "    </tr>\n",
       "    <tr>\n",
       "      <th>2</th>\n",
       "      <td>26</td>\n",
       "      <td>131</td>\n",
       "      <td>8.54</td>\n",
       "    </tr>\n",
       "    <tr>\n",
       "      <th>3</th>\n",
       "      <td>23</td>\n",
       "      <td>129</td>\n",
       "      <td>8.41</td>\n",
       "    </tr>\n",
       "    <tr>\n",
       "      <th>4</th>\n",
       "      <td>27</td>\n",
       "      <td>119</td>\n",
       "      <td>7.76</td>\n",
       "    </tr>\n",
       "    <tr>\n",
       "      <th>5</th>\n",
       "      <td>22</td>\n",
       "      <td>119</td>\n",
       "      <td>7.76</td>\n",
       "    </tr>\n",
       "    <tr>\n",
       "      <th>6</th>\n",
       "      <td>28</td>\n",
       "      <td>112</td>\n",
       "      <td>7.30</td>\n",
       "    </tr>\n",
       "    <tr>\n",
       "      <th>7</th>\n",
       "      <td>21</td>\n",
       "      <td>93</td>\n",
       "      <td>6.06</td>\n",
       "    </tr>\n",
       "    <tr>\n",
       "      <th>8</th>\n",
       "      <td>20</td>\n",
       "      <td>71</td>\n",
       "      <td>4.63</td>\n",
       "    </tr>\n",
       "    <tr>\n",
       "      <th>9</th>\n",
       "      <td>30</td>\n",
       "      <td>68</td>\n",
       "      <td>4.43</td>\n",
       "    </tr>\n",
       "  </tbody>\n",
       "</table>\n",
       "</div>"
      ],
      "text/plain": [
       "   age  user_id  percentage\n",
       "0   25      145        9.45\n",
       "1   24      132        8.60\n",
       "2   26      131        8.54\n",
       "3   23      129        8.41\n",
       "4   27      119        7.76\n",
       "5   22      119        7.76\n",
       "6   28      112        7.30\n",
       "7   21       93        6.06\n",
       "8   20       71        4.63\n",
       "9   30       68        4.43"
      ]
     },
     "execution_count": 35,
     "metadata": {},
     "output_type": "execute_result"
    }
   ],
   "source": [
    "users_age = users.groupby('age')['user_id'].count().sort_values(ascending=False).reset_index()\n",
    "users_age['percentage'] = (users_age['user_id'] / users['user_id'].count() * 100).round(2)\n",
    "users_age.head(10)"
   ]
  },
  {
   "cell_type": "code",
   "execution_count": 36,
   "id": "3cdf7f42",
   "metadata": {},
   "outputs": [
    {
     "data": {
      "image/png": "[encoded data removed]",
      "text/plain": [
       "<Figure size 720x360 with 1 Axes>"
      ]
     },
     "metadata": {
      "needs_background": "light"
     },
     "output_type": "display_data"
    }
   ],
   "source": [
    "plt.figure(figsize=(10, 5))\n",
    "ax = sns.histplot(users, x='age', bins=30, color='#b84888')\n",
    "plt.title('Возраст пользователей')\n",
    "plt.xlabel('Возраст')\n",
    "plt.ylabel('Число пользователей')\n",
    "plt.show()"
   ]
  },
  {
   "cell_type": "markdown",
   "id": "19e2b747",
   "metadata": {},
   "source": [
    "Больше всего пользователей в возрасте от 22 до 27 лет (суммарно 50,52% от общего числа), самая большая группа - это пользователи, которым 25 лет (9,45%)."
   ]
  },
  {
   "cell_type": "markdown",
   "id": "d4ef880b",
   "metadata": {},
   "source": [
    "3.4 Расстояние, которое пользователь преодолел за одну поездку"
   ]
  },
  {
   "cell_type": "code",
   "execution_count": 37,
   "id": "a0f33c4b",
   "metadata": {},
   "outputs": [
    {
     "data": {
      "image/png": "[encoded data removed]",
      "text/plain": [
       "<Figure size 720x360 with 1 Axes>"
      ]
     },
     "metadata": {
      "needs_background": "light"
     },
     "output_type": "display_data"
    }
   ],
   "source": [
    "plt.figure(figsize=(10, 5))\n",
    "ax = sns.histplot(rides, x='distance', bins=30, color='#1c9c95')\n",
    "plt.title('Расстояние за одну поездку')\n",
    "plt.xlabel('Расстояние')\n",
    "plt.ylabel('Число поездок')\n",
    "plt.show()"
   ]
  },
  {
   "cell_type": "code",
   "execution_count": 38,
   "id": "ae7cad59",
   "metadata": {},
   "outputs": [
    {
     "data": {
      "text/plain": [
       "count    18068.000000\n",
       "mean      3070.659976\n",
       "std       1116.831209\n",
       "min          0.855683\n",
       "25%       2543.226360\n",
       "50%       3133.609994\n",
       "75%       3776.222735\n",
       "max       7211.007745\n",
       "Name: distance, dtype: float64"
      ]
     },
     "execution_count": 38,
     "metadata": {},
     "output_type": "execute_result"
    }
   ],
   "source": [
    "rides['distance'].describe()"
   ]
  },
  {
   "cell_type": "code",
   "execution_count": 39,
   "id": "f7724fc6",
   "metadata": {},
   "outputs": [
    {
     "data": {
      "image/png": "[encoded data removed]",
      "text/plain": [
       "<Figure size 720x360 with 1 Axes>"
      ]
     },
     "metadata": {
      "needs_background": "light"
     },
     "output_type": "display_data"
    }
   ],
   "source": [
    "plt.figure(figsize=(10, 5))\n",
    "ax = sns.histplot(rides.query('distance < 1000'), x='distance', bins=15, color='#1c9c95')\n",
    "plt.title('Расстояние за одну поездку до 1000м')\n",
    "plt.xlabel('Расстояние')\n",
    "plt.ylabel('Число поездок')\n",
    "plt.show()"
   ]
  },
  {
   "cell_type": "markdown",
   "id": "69f00c21",
   "metadata": {},
   "source": [
    "Среднее расстояние за одну поездку - примерно 3.1 км. Данные совпадают как по медиане, так и по среднему. Также есть небольшой подъем на отметке в 600м."
   ]
  },
  {
   "cell_type": "markdown",
   "id": "4bfe220c",
   "metadata": {},
   "source": [
    "3.5 Продолжительность поездок"
   ]
  },
  {
   "cell_type": "code",
   "execution_count": 40,
   "id": "0890c0da",
   "metadata": {},
   "outputs": [
    {
     "data": {
      "image/png": "[encoded data removed]",
      "text/plain": [
       "<Figure size 720x360 with 1 Axes>"
      ]
     },
     "metadata": {
      "needs_background": "light"
     },
     "output_type": "display_data"
    }
   ],
   "source": [
    "plt.figure(figsize=(10, 5))\n",
    "ax = sns.histplot(rides, x='duration', bins=50, color='#6977a5')\n",
    "plt.title('Продолжительность поездки')\n",
    "plt.xlabel('Время в минутах')\n",
    "plt.ylabel('Число поездок')\n",
    "plt.show()"
   ]
  },
  {
   "cell_type": "code",
   "execution_count": 41,
   "id": "89331ab1",
   "metadata": {},
   "outputs": [
    {
     "data": {
      "text/plain": [
       "count    18068.000000\n",
       "mean        17.805011\n",
       "std          6.091051\n",
       "min          0.500000\n",
       "25%         13.597563\n",
       "50%         17.678395\n",
       "75%         21.724800\n",
       "max         40.823963\n",
       "Name: duration, dtype: float64"
      ]
     },
     "execution_count": 41,
     "metadata": {},
     "output_type": "execute_result"
    }
   ],
   "source": [
    "rides['duration'].describe()"
   ]
  },
  {
   "cell_type": "markdown",
   "id": "651bcc97",
   "metadata": {},
   "source": [
    "Средняя продолжительность поездки составляет 17,8 минут. Большая часть всех поездок лежит в диапазоне от 13 до 21 минуты. Есть небольшой всплеск поездок, длительностью всего 1 минута. Возможно, это ошибка в данных."
   ]
  },
  {
   "cell_type": "markdown",
   "id": "abf2ee19",
   "metadata": {},
   "source": [
    "**Выводы:**\n",
    "\n",
    "Всего для анализа представлены данные о поездках из 8 городов. Больше всего пользователей из Пятигорска (14,28%), Екатеринбурга (13,30%) и Ростова-на-Дону (12,91%). Меньше всего из Москвы — 10,95%. Почему-то из Москвы пользователей меньше, хотя население там больше. Возможно, это связано с тем, что данный сервис в Москве не так популярен или только открылся.\n",
    "\n",
    "Больше половины пользователей пользуются самокатами без подписки (54,4%), остальная часть пользователей оплачивает подписку (45,6%).\n",
    "\n",
    "Если смотреть на возраст пользователей, то почти 50% от всего количества пользователей — это молодые люди в возрасте от 22 до 27 лет.\n",
    "\n",
    "Среднее расстояние, которое проезжают за одну поездку — это 3,1 км. В среднем для большей части поездок — это расстояние от 2,5 до 3,7 км. Есть небольшой подъем количества поездок на уровне 600-650 метров.\n",
    "\n",
    "Средняя продолжительность одной поездки составляет 17,8 минут. Для большей части поездок продолжительность составляет от 13 до 21 минуты в пути."
   ]
  },
  {
   "cell_type": "markdown",
   "id": "4ef51331",
   "metadata": {},
   "source": [
    "#### Шаг 4. Объединение данных"
   ]
  },
  {
   "cell_type": "code",
   "execution_count": 42,
   "id": "6bf288b5",
   "metadata": {},
   "outputs": [
    {
     "data": {
      "text/html": [
       "<div>\n",
       "<style scoped>\n",
       "    .dataframe tbody tr th:only-of-type {\n",
       "        vertical-align: middle;\n",
       "    }\n",
       "\n",
       "    .dataframe tbody tr th {\n",
       "        vertical-align: top;\n",
       "    }\n",
       "\n",
       "    .dataframe thead th {\n",
       "        text-align: right;\n",
       "    }\n",
       "</style>\n",
       "<table border=\"1\" class=\"dataframe\">\n",
       "  <thead>\n",
       "    <tr style=\"text-align: right;\">\n",
       "      <th></th>\n",
       "      <th>user_id</th>\n",
       "      <th>distance</th>\n",
       "      <th>duration</th>\n",
       "      <th>date</th>\n",
       "      <th>month</th>\n",
       "      <th>name</th>\n",
       "      <th>age</th>\n",
       "      <th>city</th>\n",
       "      <th>subscription_type</th>\n",
       "      <th>minute_price</th>\n",
       "      <th>start_ride_price</th>\n",
       "      <th>subscription_fee</th>\n",
       "    </tr>\n",
       "  </thead>\n",
       "  <tbody>\n",
       "    <tr>\n",
       "      <th>0</th>\n",
       "      <td>1</td>\n",
       "      <td>4409.919140</td>\n",
       "      <td>25.599769</td>\n",
       "      <td>2021-01-01</td>\n",
       "      <td>1</td>\n",
       "      <td>Кира</td>\n",
       "      <td>22</td>\n",
       "      <td>Тюмень</td>\n",
       "      <td>ultra</td>\n",
       "      <td>6</td>\n",
       "      <td>0</td>\n",
       "      <td>199</td>\n",
       "    </tr>\n",
       "    <tr>\n",
       "      <th>1</th>\n",
       "      <td>1</td>\n",
       "      <td>2617.592153</td>\n",
       "      <td>15.816871</td>\n",
       "      <td>2021-01-18</td>\n",
       "      <td>1</td>\n",
       "      <td>Кира</td>\n",
       "      <td>22</td>\n",
       "      <td>Тюмень</td>\n",
       "      <td>ultra</td>\n",
       "      <td>6</td>\n",
       "      <td>0</td>\n",
       "      <td>199</td>\n",
       "    </tr>\n",
       "    <tr>\n",
       "      <th>2</th>\n",
       "      <td>1</td>\n",
       "      <td>754.159807</td>\n",
       "      <td>6.232113</td>\n",
       "      <td>2021-04-20</td>\n",
       "      <td>4</td>\n",
       "      <td>Кира</td>\n",
       "      <td>22</td>\n",
       "      <td>Тюмень</td>\n",
       "      <td>ultra</td>\n",
       "      <td>6</td>\n",
       "      <td>0</td>\n",
       "      <td>199</td>\n",
       "    </tr>\n",
       "    <tr>\n",
       "      <th>3</th>\n",
       "      <td>1</td>\n",
       "      <td>2694.783254</td>\n",
       "      <td>18.511000</td>\n",
       "      <td>2021-08-11</td>\n",
       "      <td>8</td>\n",
       "      <td>Кира</td>\n",
       "      <td>22</td>\n",
       "      <td>Тюмень</td>\n",
       "      <td>ultra</td>\n",
       "      <td>6</td>\n",
       "      <td>0</td>\n",
       "      <td>199</td>\n",
       "    </tr>\n",
       "    <tr>\n",
       "      <th>4</th>\n",
       "      <td>1</td>\n",
       "      <td>4028.687306</td>\n",
       "      <td>26.265803</td>\n",
       "      <td>2021-08-28</td>\n",
       "      <td>8</td>\n",
       "      <td>Кира</td>\n",
       "      <td>22</td>\n",
       "      <td>Тюмень</td>\n",
       "      <td>ultra</td>\n",
       "      <td>6</td>\n",
       "      <td>0</td>\n",
       "      <td>199</td>\n",
       "    </tr>\n",
       "    <tr>\n",
       "      <th>5</th>\n",
       "      <td>1</td>\n",
       "      <td>2770.890808</td>\n",
       "      <td>16.650138</td>\n",
       "      <td>2021-10-09</td>\n",
       "      <td>10</td>\n",
       "      <td>Кира</td>\n",
       "      <td>22</td>\n",
       "      <td>Тюмень</td>\n",
       "      <td>ultra</td>\n",
       "      <td>6</td>\n",
       "      <td>0</td>\n",
       "      <td>199</td>\n",
       "    </tr>\n",
       "    <tr>\n",
       "      <th>6</th>\n",
       "      <td>1</td>\n",
       "      <td>3039.020292</td>\n",
       "      <td>14.927879</td>\n",
       "      <td>2021-10-19</td>\n",
       "      <td>10</td>\n",
       "      <td>Кира</td>\n",
       "      <td>22</td>\n",
       "      <td>Тюмень</td>\n",
       "      <td>ultra</td>\n",
       "      <td>6</td>\n",
       "      <td>0</td>\n",
       "      <td>199</td>\n",
       "    </tr>\n",
       "    <tr>\n",
       "      <th>7</th>\n",
       "      <td>1</td>\n",
       "      <td>2842.118050</td>\n",
       "      <td>23.117468</td>\n",
       "      <td>2021-11-06</td>\n",
       "      <td>11</td>\n",
       "      <td>Кира</td>\n",
       "      <td>22</td>\n",
       "      <td>Тюмень</td>\n",
       "      <td>ultra</td>\n",
       "      <td>6</td>\n",
       "      <td>0</td>\n",
       "      <td>199</td>\n",
       "    </tr>\n",
       "    <tr>\n",
       "      <th>8</th>\n",
       "      <td>1</td>\n",
       "      <td>3412.690668</td>\n",
       "      <td>15.238072</td>\n",
       "      <td>2021-11-14</td>\n",
       "      <td>11</td>\n",
       "      <td>Кира</td>\n",
       "      <td>22</td>\n",
       "      <td>Тюмень</td>\n",
       "      <td>ultra</td>\n",
       "      <td>6</td>\n",
       "      <td>0</td>\n",
       "      <td>199</td>\n",
       "    </tr>\n",
       "    <tr>\n",
       "      <th>9</th>\n",
       "      <td>1</td>\n",
       "      <td>748.690645</td>\n",
       "      <td>15.041884</td>\n",
       "      <td>2021-11-22</td>\n",
       "      <td>11</td>\n",
       "      <td>Кира</td>\n",
       "      <td>22</td>\n",
       "      <td>Тюмень</td>\n",
       "      <td>ultra</td>\n",
       "      <td>6</td>\n",
       "      <td>0</td>\n",
       "      <td>199</td>\n",
       "    </tr>\n",
       "  </tbody>\n",
       "</table>\n",
       "</div>"
      ],
      "text/plain": [
       "   user_id     distance   duration       date  month  name  age    city  \\\n",
       "0        1  4409.919140  25.599769 2021-01-01      1  Кира   22  Тюмень   \n",
       "1        1  2617.592153  15.816871 2021-01-18      1  Кира   22  Тюмень   \n",
       "2        1   754.159807   6.232113 2021-04-20      4  Кира   22  Тюмень   \n",
       "3        1  2694.783254  18.511000 2021-08-11      8  Кира   22  Тюмень   \n",
       "4        1  4028.687306  26.265803 2021-08-28      8  Кира   22  Тюмень   \n",
       "5        1  2770.890808  16.650138 2021-10-09     10  Кира   22  Тюмень   \n",
       "6        1  3039.020292  14.927879 2021-10-19     10  Кира   22  Тюмень   \n",
       "7        1  2842.118050  23.117468 2021-11-06     11  Кира   22  Тюмень   \n",
       "8        1  3412.690668  15.238072 2021-11-14     11  Кира   22  Тюмень   \n",
       "9        1   748.690645  15.041884 2021-11-22     11  Кира   22  Тюмень   \n",
       "\n",
       "  subscription_type  minute_price  start_ride_price  subscription_fee  \n",
       "0             ultra             6                 0               199  \n",
       "1             ultra             6                 0               199  \n",
       "2             ultra             6                 0               199  \n",
       "3             ultra             6                 0               199  \n",
       "4             ultra             6                 0               199  \n",
       "5             ultra             6                 0               199  \n",
       "6             ultra             6                 0               199  \n",
       "7             ultra             6                 0               199  \n",
       "8             ultra             6                 0               199  \n",
       "9             ultra             6                 0               199  "
      ]
     },
     "execution_count": 42,
     "metadata": {},
     "output_type": "execute_result"
    }
   ],
   "source": [
    "#объединим данные\n",
    "df = rides.merge(users, how ='left', on ='user_id')\n",
    "df = df.merge(subscriptions, how ='left', on='subscription_type')\n",
    "\n",
    "df.head(10)"
   ]
  },
  {
   "cell_type": "code",
   "execution_count": 43,
   "id": "b2360823",
   "metadata": {},
   "outputs": [
    {
     "name": "stdout",
     "output_type": "stream",
     "text": [
      "(18068, 12)\n",
      "(1534, 5)\n",
      "(18068, 5)\n"
     ]
    }
   ],
   "source": [
    "print(df.shape)\n",
    "print(users.shape)\n",
    "print(rides.shape)"
   ]
  },
  {
   "cell_type": "code",
   "execution_count": 44,
   "id": "5d4d12a7",
   "metadata": {},
   "outputs": [],
   "source": [
    "# создадим два датафрейма c данными о пользователях без подписки и с подпиской\n",
    "df_ultra = df.query('subscription_type == \"ultra\"')\n",
    "df_free = df.query('subscription_type == \"free\"')"
   ]
  },
  {
   "cell_type": "code",
   "execution_count": 45,
   "id": "fc8a2e50",
   "metadata": {},
   "outputs": [
    {
     "data": {
      "text/html": [
       "<div>\n",
       "<style scoped>\n",
       "    .dataframe tbody tr th:only-of-type {\n",
       "        vertical-align: middle;\n",
       "    }\n",
       "\n",
       "    .dataframe tbody tr th {\n",
       "        vertical-align: top;\n",
       "    }\n",
       "\n",
       "    .dataframe thead th {\n",
       "        text-align: right;\n",
       "    }\n",
       "</style>\n",
       "<table border=\"1\" class=\"dataframe\">\n",
       "  <thead>\n",
       "    <tr style=\"text-align: right;\">\n",
       "      <th></th>\n",
       "      <th>user_id</th>\n",
       "      <th>distance</th>\n",
       "      <th>duration</th>\n",
       "      <th>date</th>\n",
       "      <th>month</th>\n",
       "      <th>name</th>\n",
       "      <th>age</th>\n",
       "      <th>city</th>\n",
       "      <th>subscription_type</th>\n",
       "      <th>minute_price</th>\n",
       "      <th>start_ride_price</th>\n",
       "      <th>subscription_fee</th>\n",
       "    </tr>\n",
       "  </thead>\n",
       "  <tbody>\n",
       "    <tr>\n",
       "      <th>0</th>\n",
       "      <td>1</td>\n",
       "      <td>4409.919140</td>\n",
       "      <td>25.599769</td>\n",
       "      <td>2021-01-01</td>\n",
       "      <td>1</td>\n",
       "      <td>Кира</td>\n",
       "      <td>22</td>\n",
       "      <td>Тюмень</td>\n",
       "      <td>ultra</td>\n",
       "      <td>6</td>\n",
       "      <td>0</td>\n",
       "      <td>199</td>\n",
       "    </tr>\n",
       "    <tr>\n",
       "      <th>1</th>\n",
       "      <td>1</td>\n",
       "      <td>2617.592153</td>\n",
       "      <td>15.816871</td>\n",
       "      <td>2021-01-18</td>\n",
       "      <td>1</td>\n",
       "      <td>Кира</td>\n",
       "      <td>22</td>\n",
       "      <td>Тюмень</td>\n",
       "      <td>ultra</td>\n",
       "      <td>6</td>\n",
       "      <td>0</td>\n",
       "      <td>199</td>\n",
       "    </tr>\n",
       "    <tr>\n",
       "      <th>2</th>\n",
       "      <td>1</td>\n",
       "      <td>754.159807</td>\n",
       "      <td>6.232113</td>\n",
       "      <td>2021-04-20</td>\n",
       "      <td>4</td>\n",
       "      <td>Кира</td>\n",
       "      <td>22</td>\n",
       "      <td>Тюмень</td>\n",
       "      <td>ultra</td>\n",
       "      <td>6</td>\n",
       "      <td>0</td>\n",
       "      <td>199</td>\n",
       "    </tr>\n",
       "    <tr>\n",
       "      <th>3</th>\n",
       "      <td>1</td>\n",
       "      <td>2694.783254</td>\n",
       "      <td>18.511000</td>\n",
       "      <td>2021-08-11</td>\n",
       "      <td>8</td>\n",
       "      <td>Кира</td>\n",
       "      <td>22</td>\n",
       "      <td>Тюмень</td>\n",
       "      <td>ultra</td>\n",
       "      <td>6</td>\n",
       "      <td>0</td>\n",
       "      <td>199</td>\n",
       "    </tr>\n",
       "    <tr>\n",
       "      <th>4</th>\n",
       "      <td>1</td>\n",
       "      <td>4028.687306</td>\n",
       "      <td>26.265803</td>\n",
       "      <td>2021-08-28</td>\n",
       "      <td>8</td>\n",
       "      <td>Кира</td>\n",
       "      <td>22</td>\n",
       "      <td>Тюмень</td>\n",
       "      <td>ultra</td>\n",
       "      <td>6</td>\n",
       "      <td>0</td>\n",
       "      <td>199</td>\n",
       "    </tr>\n",
       "  </tbody>\n",
       "</table>\n",
       "</div>"
      ],
      "text/plain": [
       "   user_id     distance   duration       date  month  name  age    city  \\\n",
       "0        1  4409.919140  25.599769 2021-01-01      1  Кира   22  Тюмень   \n",
       "1        1  2617.592153  15.816871 2021-01-18      1  Кира   22  Тюмень   \n",
       "2        1   754.159807   6.232113 2021-04-20      4  Кира   22  Тюмень   \n",
       "3        1  2694.783254  18.511000 2021-08-11      8  Кира   22  Тюмень   \n",
       "4        1  4028.687306  26.265803 2021-08-28      8  Кира   22  Тюмень   \n",
       "\n",
       "  subscription_type  minute_price  start_ride_price  subscription_fee  \n",
       "0             ultra             6                 0               199  \n",
       "1             ultra             6                 0               199  \n",
       "2             ultra             6                 0               199  \n",
       "3             ultra             6                 0               199  \n",
       "4             ultra             6                 0               199  "
      ]
     },
     "execution_count": 45,
     "metadata": {},
     "output_type": "execute_result"
    }
   ],
   "source": [
    "df_ultra.head()"
   ]
  },
  {
   "cell_type": "code",
   "execution_count": 46,
   "id": "4451a19d",
   "metadata": {},
   "outputs": [
    {
     "data": {
      "text/html": [
       "<div>\n",
       "<style scoped>\n",
       "    .dataframe tbody tr th:only-of-type {\n",
       "        vertical-align: middle;\n",
       "    }\n",
       "\n",
       "    .dataframe tbody tr th {\n",
       "        vertical-align: top;\n",
       "    }\n",
       "\n",
       "    .dataframe thead th {\n",
       "        text-align: right;\n",
       "    }\n",
       "</style>\n",
       "<table border=\"1\" class=\"dataframe\">\n",
       "  <thead>\n",
       "    <tr style=\"text-align: right;\">\n",
       "      <th></th>\n",
       "      <th>user_id</th>\n",
       "      <th>distance</th>\n",
       "      <th>duration</th>\n",
       "      <th>date</th>\n",
       "      <th>month</th>\n",
       "      <th>name</th>\n",
       "      <th>age</th>\n",
       "      <th>city</th>\n",
       "      <th>subscription_type</th>\n",
       "      <th>minute_price</th>\n",
       "      <th>start_ride_price</th>\n",
       "      <th>subscription_fee</th>\n",
       "    </tr>\n",
       "  </thead>\n",
       "  <tbody>\n",
       "    <tr>\n",
       "      <th>6500</th>\n",
       "      <td>700</td>\n",
       "      <td>2515.690719</td>\n",
       "      <td>14.944286</td>\n",
       "      <td>2021-01-02</td>\n",
       "      <td>1</td>\n",
       "      <td>Айдар</td>\n",
       "      <td>22</td>\n",
       "      <td>Омск</td>\n",
       "      <td>free</td>\n",
       "      <td>8</td>\n",
       "      <td>50</td>\n",
       "      <td>0</td>\n",
       "    </tr>\n",
       "    <tr>\n",
       "      <th>6501</th>\n",
       "      <td>700</td>\n",
       "      <td>846.932642</td>\n",
       "      <td>16.234663</td>\n",
       "      <td>2021-02-01</td>\n",
       "      <td>2</td>\n",
       "      <td>Айдар</td>\n",
       "      <td>22</td>\n",
       "      <td>Омск</td>\n",
       "      <td>free</td>\n",
       "      <td>8</td>\n",
       "      <td>50</td>\n",
       "      <td>0</td>\n",
       "    </tr>\n",
       "    <tr>\n",
       "      <th>6502</th>\n",
       "      <td>700</td>\n",
       "      <td>4004.434142</td>\n",
       "      <td>20.016628</td>\n",
       "      <td>2021-02-04</td>\n",
       "      <td>2</td>\n",
       "      <td>Айдар</td>\n",
       "      <td>22</td>\n",
       "      <td>Омск</td>\n",
       "      <td>free</td>\n",
       "      <td>8</td>\n",
       "      <td>50</td>\n",
       "      <td>0</td>\n",
       "    </tr>\n",
       "    <tr>\n",
       "      <th>6503</th>\n",
       "      <td>700</td>\n",
       "      <td>1205.911290</td>\n",
       "      <td>9.782872</td>\n",
       "      <td>2021-02-10</td>\n",
       "      <td>2</td>\n",
       "      <td>Айдар</td>\n",
       "      <td>22</td>\n",
       "      <td>Омск</td>\n",
       "      <td>free</td>\n",
       "      <td>8</td>\n",
       "      <td>50</td>\n",
       "      <td>0</td>\n",
       "    </tr>\n",
       "    <tr>\n",
       "      <th>6504</th>\n",
       "      <td>700</td>\n",
       "      <td>3047.379435</td>\n",
       "      <td>17.427673</td>\n",
       "      <td>2021-02-14</td>\n",
       "      <td>2</td>\n",
       "      <td>Айдар</td>\n",
       "      <td>22</td>\n",
       "      <td>Омск</td>\n",
       "      <td>free</td>\n",
       "      <td>8</td>\n",
       "      <td>50</td>\n",
       "      <td>0</td>\n",
       "    </tr>\n",
       "  </tbody>\n",
       "</table>\n",
       "</div>"
      ],
      "text/plain": [
       "      user_id     distance   duration       date  month   name  age  city  \\\n",
       "6500      700  2515.690719  14.944286 2021-01-02      1  Айдар   22  Омск   \n",
       "6501      700   846.932642  16.234663 2021-02-01      2  Айдар   22  Омск   \n",
       "6502      700  4004.434142  20.016628 2021-02-04      2  Айдар   22  Омск   \n",
       "6503      700  1205.911290   9.782872 2021-02-10      2  Айдар   22  Омск   \n",
       "6504      700  3047.379435  17.427673 2021-02-14      2  Айдар   22  Омск   \n",
       "\n",
       "     subscription_type  minute_price  start_ride_price  subscription_fee  \n",
       "6500              free             8                50                 0  \n",
       "6501              free             8                50                 0  \n",
       "6502              free             8                50                 0  \n",
       "6503              free             8                50                 0  \n",
       "6504              free             8                50                 0  "
      ]
     },
     "execution_count": 46,
     "metadata": {},
     "output_type": "execute_result"
    }
   ],
   "source": [
    "df_free.head()"
   ]
  },
  {
   "cell_type": "markdown",
   "id": "a50005e4",
   "metadata": {},
   "source": [
    "Посмотрим на информацию о расстоянии и времени поездок для пользователей обеих категорий"
   ]
  },
  {
   "cell_type": "code",
   "execution_count": 47,
   "id": "d0810d5f",
   "metadata": {},
   "outputs": [
    {
     "data": {
      "image/png": "[encoded data removed]",
      "text/plain": [
       "<Figure size 936x432 with 1 Axes>"
      ]
     },
     "metadata": {
      "needs_background": "light"
     },
     "output_type": "display_data"
    }
   ],
   "source": [
    "plt.figure(figsize=(13, 6))\n",
    "ax = sns.histplot(df_ultra['distance'], bins=30, color='green', label='Тариф ultra')\n",
    "ax = sns.histplot(df_free['distance'], bins=30, color='dodgerblue', alpha=0.5, label='Тариф free')\n",
    "plt.title('Расстояние за одну поездку')\n",
    "plt.xlabel('Расстояние')\n",
    "plt.ylabel('Число поездок')\n",
    "plt.legend(title='Тип подписки')\n",
    "plt.show()"
   ]
  },
  {
   "cell_type": "markdown",
   "id": "67d87ba9",
   "metadata": {},
   "source": [
    "По графику видно, что для тарифа ultra наиболее популярны поездки на расстояние примерно в 3 км, а для тарифа free на расстояние чуть меньше — 2,5 км. Причем пользователи с тарифом free совершают больше поездок до 1 км."
   ]
  },
  {
   "cell_type": "code",
   "execution_count": 48,
   "id": "5e3e9399",
   "metadata": {},
   "outputs": [
    {
     "data": {
      "text/plain": [
       "count    11568.000000\n",
       "mean      3045.495282\n",
       "std       1246.173806\n",
       "min          0.855683\n",
       "25%       2366.562689\n",
       "50%       3114.648465\n",
       "75%       3905.697894\n",
       "max       7211.007745\n",
       "Name: distance, dtype: float64"
      ]
     },
     "execution_count": 48,
     "metadata": {},
     "output_type": "execute_result"
    }
   ],
   "source": [
    "df_free['distance'].describe()"
   ]
  },
  {
   "cell_type": "code",
   "execution_count": 49,
   "id": "d771aa65",
   "metadata": {},
   "outputs": [
    {
     "data": {
      "text/plain": [
       "count    6500.000000\n",
       "mean     3115.445388\n",
       "std       836.895330\n",
       "min       244.210438\n",
       "25%      2785.444017\n",
       "50%      3148.637229\n",
       "75%      3560.574425\n",
       "max      5699.769662\n",
       "Name: distance, dtype: float64"
      ]
     },
     "execution_count": 49,
     "metadata": {},
     "output_type": "execute_result"
    }
   ],
   "source": [
    "df_ultra['distance'].describe()"
   ]
  },
  {
   "cell_type": "code",
   "execution_count": 50,
   "id": "bd78c07b",
   "metadata": {},
   "outputs": [
    {
     "data": {
      "image/png": "[encoded data removed]",
      "text/plain": [
       "<Figure size 936x432 with 1 Axes>"
      ]
     },
     "metadata": {
      "needs_background": "light"
     },
     "output_type": "display_data"
    }
   ],
   "source": [
    "plt.figure(figsize=(13, 6))\n",
    "ax = sns.histplot(df_ultra['duration'], bins=30, color='green', label='Тариф ultra')\n",
    "ax = sns.histplot(df_free['duration'], bins=30, color='dodgerblue', alpha=0.5, label='Тариф free')\n",
    "plt.title('Продолжительность поездки')\n",
    "plt.xlabel('Время в минутах')\n",
    "plt.ylabel('Число поездок')\n",
    "plt.legend(title='Тип подписки')\n",
    "plt.show()"
   ]
  },
  {
   "cell_type": "markdown",
   "id": "25a0aebe",
   "metadata": {},
   "source": [
    "Среднее время одной поездки для тарифа free составляет 17.3 минут, для тарифа ultra чуть больше - около 18.5 минут. Для тарифа free можно увидеть всплеск на отметке в 1 минуту"
   ]
  },
  {
   "cell_type": "code",
   "execution_count": 51,
   "id": "8317c795",
   "metadata": {},
   "outputs": [
    {
     "data": {
      "text/plain": [
       "count    11568.000000\n",
       "mean        17.390909\n",
       "std          6.326803\n",
       "min          0.500000\n",
       "25%         12.958437\n",
       "50%         17.326890\n",
       "75%         21.594071\n",
       "max         34.948498\n",
       "Name: duration, dtype: float64"
      ]
     },
     "execution_count": 51,
     "metadata": {},
     "output_type": "execute_result"
    }
   ],
   "source": [
    "df_free['duration'].describe()"
   ]
  },
  {
   "cell_type": "code",
   "execution_count": 52,
   "id": "ba48dead",
   "metadata": {},
   "outputs": [
    {
     "data": {
      "text/plain": [
       "count    6500.000000\n",
       "mean       18.541985\n",
       "std         5.572048\n",
       "min         3.760353\n",
       "25%        14.524654\n",
       "50%        18.178153\n",
       "75%        21.884129\n",
       "max        40.823963\n",
       "Name: duration, dtype: float64"
      ]
     },
     "execution_count": 52,
     "metadata": {},
     "output_type": "execute_result"
    }
   ],
   "source": [
    "df_ultra['duration'].describe()"
   ]
  },
  {
   "cell_type": "markdown",
   "id": "3e1491ae",
   "metadata": {},
   "source": [
    "**Выводы:**\n",
    "\n",
    "Для пользователей с тарифом free большая часть поездок приходится на расстояние от 2,3 км до 3,9 км. Для пользователей с тарифом ultra — это поездки от 2,7 км до 3,5 км.\n",
    "\n",
    "Среднее время в пути для пользователей тарифа free 17,3 минуты, а для тарифа ultra — 18,5 минут. \n",
    "\n",
    "Таким образом, можно сказать что в среднем, пользователи тарифа ultra совершают более длинные поездки и находятся в пути дольше, но разница не так значительна."
   ]
  },
  {
   "cell_type": "markdown",
   "id": "402d620f",
   "metadata": {},
   "source": [
    "#### Шаг 5. Подсчёт выручки"
   ]
  },
  {
   "cell_type": "code",
   "execution_count": 53,
   "id": "53049e0a",
   "metadata": {},
   "outputs": [],
   "source": [
    "#округлим длительность поездок\n",
    "df['duration'] = np.ceil(df['duration']).astype(int)"
   ]
  },
  {
   "cell_type": "markdown",
   "id": "42f22cee",
   "metadata": {},
   "source": [
    "5.1 Создадим датафрейм с агрегированными данными о поездках "
   ]
  },
  {
   "cell_type": "code",
   "execution_count": 54,
   "id": "79fe6246",
   "metadata": {},
   "outputs": [
    {
     "data": {
      "text/html": [
       "<div>\n",
       "<style scoped>\n",
       "    .dataframe tbody tr th:only-of-type {\n",
       "        vertical-align: middle;\n",
       "    }\n",
       "\n",
       "    .dataframe tbody tr th {\n",
       "        vertical-align: top;\n",
       "    }\n",
       "\n",
       "    .dataframe thead th {\n",
       "        text-align: right;\n",
       "    }\n",
       "</style>\n",
       "<table border=\"1\" class=\"dataframe\">\n",
       "  <thead>\n",
       "    <tr style=\"text-align: right;\">\n",
       "      <th></th>\n",
       "      <th>user_id</th>\n",
       "      <th>name</th>\n",
       "      <th>age</th>\n",
       "      <th>city</th>\n",
       "      <th>subscription_type</th>\n",
       "      <th>month</th>\n",
       "      <th>minute_price</th>\n",
       "      <th>start_ride_price</th>\n",
       "      <th>subscription_fee</th>\n",
       "      <th>total_distance</th>\n",
       "      <th>total_duration</th>\n",
       "      <th>total_rides</th>\n",
       "    </tr>\n",
       "  </thead>\n",
       "  <tbody>\n",
       "    <tr>\n",
       "      <th>0</th>\n",
       "      <td>1</td>\n",
       "      <td>Кира</td>\n",
       "      <td>22</td>\n",
       "      <td>Тюмень</td>\n",
       "      <td>ultra</td>\n",
       "      <td>1</td>\n",
       "      <td>6</td>\n",
       "      <td>0</td>\n",
       "      <td>199</td>\n",
       "      <td>7027.511294</td>\n",
       "      <td>42</td>\n",
       "      <td>2</td>\n",
       "    </tr>\n",
       "    <tr>\n",
       "      <th>1</th>\n",
       "      <td>1</td>\n",
       "      <td>Кира</td>\n",
       "      <td>22</td>\n",
       "      <td>Тюмень</td>\n",
       "      <td>ultra</td>\n",
       "      <td>4</td>\n",
       "      <td>6</td>\n",
       "      <td>0</td>\n",
       "      <td>199</td>\n",
       "      <td>754.159807</td>\n",
       "      <td>7</td>\n",
       "      <td>1</td>\n",
       "    </tr>\n",
       "    <tr>\n",
       "      <th>2</th>\n",
       "      <td>1</td>\n",
       "      <td>Кира</td>\n",
       "      <td>22</td>\n",
       "      <td>Тюмень</td>\n",
       "      <td>ultra</td>\n",
       "      <td>8</td>\n",
       "      <td>6</td>\n",
       "      <td>0</td>\n",
       "      <td>199</td>\n",
       "      <td>6723.470560</td>\n",
       "      <td>46</td>\n",
       "      <td>2</td>\n",
       "    </tr>\n",
       "    <tr>\n",
       "      <th>3</th>\n",
       "      <td>1</td>\n",
       "      <td>Кира</td>\n",
       "      <td>22</td>\n",
       "      <td>Тюмень</td>\n",
       "      <td>ultra</td>\n",
       "      <td>10</td>\n",
       "      <td>6</td>\n",
       "      <td>0</td>\n",
       "      <td>199</td>\n",
       "      <td>5809.911100</td>\n",
       "      <td>32</td>\n",
       "      <td>2</td>\n",
       "    </tr>\n",
       "    <tr>\n",
       "      <th>4</th>\n",
       "      <td>1</td>\n",
       "      <td>Кира</td>\n",
       "      <td>22</td>\n",
       "      <td>Тюмень</td>\n",
       "      <td>ultra</td>\n",
       "      <td>11</td>\n",
       "      <td>6</td>\n",
       "      <td>0</td>\n",
       "      <td>199</td>\n",
       "      <td>7003.499363</td>\n",
       "      <td>56</td>\n",
       "      <td>3</td>\n",
       "    </tr>\n",
       "    <tr>\n",
       "      <th>5</th>\n",
       "      <td>1</td>\n",
       "      <td>Кира</td>\n",
       "      <td>22</td>\n",
       "      <td>Тюмень</td>\n",
       "      <td>ultra</td>\n",
       "      <td>12</td>\n",
       "      <td>6</td>\n",
       "      <td>0</td>\n",
       "      <td>199</td>\n",
       "      <td>6751.629942</td>\n",
       "      <td>28</td>\n",
       "      <td>2</td>\n",
       "    </tr>\n",
       "    <tr>\n",
       "      <th>6</th>\n",
       "      <td>2</td>\n",
       "      <td>Станислав</td>\n",
       "      <td>31</td>\n",
       "      <td>Омск</td>\n",
       "      <td>ultra</td>\n",
       "      <td>3</td>\n",
       "      <td>6</td>\n",
       "      <td>0</td>\n",
       "      <td>199</td>\n",
       "      <td>10187.723006</td>\n",
       "      <td>63</td>\n",
       "      <td>3</td>\n",
       "    </tr>\n",
       "    <tr>\n",
       "      <th>7</th>\n",
       "      <td>2</td>\n",
       "      <td>Станислав</td>\n",
       "      <td>31</td>\n",
       "      <td>Омск</td>\n",
       "      <td>ultra</td>\n",
       "      <td>4</td>\n",
       "      <td>6</td>\n",
       "      <td>0</td>\n",
       "      <td>199</td>\n",
       "      <td>6164.381824</td>\n",
       "      <td>40</td>\n",
       "      <td>2</td>\n",
       "    </tr>\n",
       "    <tr>\n",
       "      <th>8</th>\n",
       "      <td>2</td>\n",
       "      <td>Станислав</td>\n",
       "      <td>31</td>\n",
       "      <td>Омск</td>\n",
       "      <td>ultra</td>\n",
       "      <td>6</td>\n",
       "      <td>6</td>\n",
       "      <td>0</td>\n",
       "      <td>199</td>\n",
       "      <td>3255.338202</td>\n",
       "      <td>14</td>\n",
       "      <td>1</td>\n",
       "    </tr>\n",
       "    <tr>\n",
       "      <th>9</th>\n",
       "      <td>2</td>\n",
       "      <td>Станислав</td>\n",
       "      <td>31</td>\n",
       "      <td>Омск</td>\n",
       "      <td>ultra</td>\n",
       "      <td>7</td>\n",
       "      <td>6</td>\n",
       "      <td>0</td>\n",
       "      <td>199</td>\n",
       "      <td>6780.722964</td>\n",
       "      <td>48</td>\n",
       "      <td>2</td>\n",
       "    </tr>\n",
       "  </tbody>\n",
       "</table>\n",
       "</div>"
      ],
      "text/plain": [
       "   user_id       name  age    city subscription_type  month  minute_price  \\\n",
       "0        1       Кира   22  Тюмень             ultra      1             6   \n",
       "1        1       Кира   22  Тюмень             ultra      4             6   \n",
       "2        1       Кира   22  Тюмень             ultra      8             6   \n",
       "3        1       Кира   22  Тюмень             ultra     10             6   \n",
       "4        1       Кира   22  Тюмень             ultra     11             6   \n",
       "5        1       Кира   22  Тюмень             ultra     12             6   \n",
       "6        2  Станислав   31    Омск             ultra      3             6   \n",
       "7        2  Станислав   31    Омск             ultra      4             6   \n",
       "8        2  Станислав   31    Омск             ultra      6             6   \n",
       "9        2  Станислав   31    Омск             ultra      7             6   \n",
       "\n",
       "   start_ride_price  subscription_fee  total_distance  total_duration  \\\n",
       "0                 0               199     7027.511294              42   \n",
       "1                 0               199      754.159807               7   \n",
       "2                 0               199     6723.470560              46   \n",
       "3                 0               199     5809.911100              32   \n",
       "4                 0               199     7003.499363              56   \n",
       "5                 0               199     6751.629942              28   \n",
       "6                 0               199    10187.723006              63   \n",
       "7                 0               199     6164.381824              40   \n",
       "8                 0               199     3255.338202              14   \n",
       "9                 0               199     6780.722964              48   \n",
       "\n",
       "   total_rides  \n",
       "0            2  \n",
       "1            1  \n",
       "2            2  \n",
       "3            2  \n",
       "4            3  \n",
       "5            2  \n",
       "6            3  \n",
       "7            2  \n",
       "8            1  \n",
       "9            2  "
      ]
     },
     "execution_count": 54,
     "metadata": {},
     "output_type": "execute_result"
    }
   ],
   "source": [
    "df_agg = df.groupby(\n",
    "    ['user_id', 'name', 'age', 'city', 'subscription_type', 'month',\n",
    "     'minute_price', 'start_ride_price', 'subscription_fee']).agg({\n",
    "     'distance': 'sum',\n",
    "     'duration': 'sum',\n",
    "     'date': 'count'\n",
    "}).reset_index()\n",
    "\n",
    "df_agg.rename(columns={\n",
    "     'distance': 'total_distance',\n",
    "     'duration': 'total_duration',\n",
    "     'date': 'total_rides'\n",
    "}, inplace=True)\n",
    "\n",
    "df_agg.head(10)"
   ]
  },
  {
   "cell_type": "markdown",
   "id": "ac7105bb",
   "metadata": {},
   "source": [
    "5.2 Добавим столбец с помесячной выручкой, которую принёс каждый пользователь. "
   ]
  },
  {
   "cell_type": "code",
   "execution_count": 55,
   "id": "ea0832f1",
   "metadata": {},
   "outputs": [
    {
     "data": {
      "text/html": [
       "<div>\n",
       "<style scoped>\n",
       "    .dataframe tbody tr th:only-of-type {\n",
       "        vertical-align: middle;\n",
       "    }\n",
       "\n",
       "    .dataframe tbody tr th {\n",
       "        vertical-align: top;\n",
       "    }\n",
       "\n",
       "    .dataframe thead th {\n",
       "        text-align: right;\n",
       "    }\n",
       "</style>\n",
       "<table border=\"1\" class=\"dataframe\">\n",
       "  <thead>\n",
       "    <tr style=\"text-align: right;\">\n",
       "      <th></th>\n",
       "      <th>user_id</th>\n",
       "      <th>name</th>\n",
       "      <th>age</th>\n",
       "      <th>city</th>\n",
       "      <th>subscription_type</th>\n",
       "      <th>month</th>\n",
       "      <th>minute_price</th>\n",
       "      <th>start_ride_price</th>\n",
       "      <th>subscription_fee</th>\n",
       "      <th>total_distance</th>\n",
       "      <th>total_duration</th>\n",
       "      <th>total_rides</th>\n",
       "      <th>income</th>\n",
       "    </tr>\n",
       "  </thead>\n",
       "  <tbody>\n",
       "    <tr>\n",
       "      <th>0</th>\n",
       "      <td>1</td>\n",
       "      <td>Кира</td>\n",
       "      <td>22</td>\n",
       "      <td>Тюмень</td>\n",
       "      <td>ultra</td>\n",
       "      <td>1</td>\n",
       "      <td>6</td>\n",
       "      <td>0</td>\n",
       "      <td>199</td>\n",
       "      <td>7027.511294</td>\n",
       "      <td>42</td>\n",
       "      <td>2</td>\n",
       "      <td>451</td>\n",
       "    </tr>\n",
       "    <tr>\n",
       "      <th>1</th>\n",
       "      <td>1</td>\n",
       "      <td>Кира</td>\n",
       "      <td>22</td>\n",
       "      <td>Тюмень</td>\n",
       "      <td>ultra</td>\n",
       "      <td>4</td>\n",
       "      <td>6</td>\n",
       "      <td>0</td>\n",
       "      <td>199</td>\n",
       "      <td>754.159807</td>\n",
       "      <td>7</td>\n",
       "      <td>1</td>\n",
       "      <td>241</td>\n",
       "    </tr>\n",
       "    <tr>\n",
       "      <th>2</th>\n",
       "      <td>1</td>\n",
       "      <td>Кира</td>\n",
       "      <td>22</td>\n",
       "      <td>Тюмень</td>\n",
       "      <td>ultra</td>\n",
       "      <td>8</td>\n",
       "      <td>6</td>\n",
       "      <td>0</td>\n",
       "      <td>199</td>\n",
       "      <td>6723.470560</td>\n",
       "      <td>46</td>\n",
       "      <td>2</td>\n",
       "      <td>475</td>\n",
       "    </tr>\n",
       "    <tr>\n",
       "      <th>3</th>\n",
       "      <td>1</td>\n",
       "      <td>Кира</td>\n",
       "      <td>22</td>\n",
       "      <td>Тюмень</td>\n",
       "      <td>ultra</td>\n",
       "      <td>10</td>\n",
       "      <td>6</td>\n",
       "      <td>0</td>\n",
       "      <td>199</td>\n",
       "      <td>5809.911100</td>\n",
       "      <td>32</td>\n",
       "      <td>2</td>\n",
       "      <td>391</td>\n",
       "    </tr>\n",
       "    <tr>\n",
       "      <th>4</th>\n",
       "      <td>1</td>\n",
       "      <td>Кира</td>\n",
       "      <td>22</td>\n",
       "      <td>Тюмень</td>\n",
       "      <td>ultra</td>\n",
       "      <td>11</td>\n",
       "      <td>6</td>\n",
       "      <td>0</td>\n",
       "      <td>199</td>\n",
       "      <td>7003.499363</td>\n",
       "      <td>56</td>\n",
       "      <td>3</td>\n",
       "      <td>535</td>\n",
       "    </tr>\n",
       "    <tr>\n",
       "      <th>5</th>\n",
       "      <td>1</td>\n",
       "      <td>Кира</td>\n",
       "      <td>22</td>\n",
       "      <td>Тюмень</td>\n",
       "      <td>ultra</td>\n",
       "      <td>12</td>\n",
       "      <td>6</td>\n",
       "      <td>0</td>\n",
       "      <td>199</td>\n",
       "      <td>6751.629942</td>\n",
       "      <td>28</td>\n",
       "      <td>2</td>\n",
       "      <td>367</td>\n",
       "    </tr>\n",
       "    <tr>\n",
       "      <th>6</th>\n",
       "      <td>2</td>\n",
       "      <td>Станислав</td>\n",
       "      <td>31</td>\n",
       "      <td>Омск</td>\n",
       "      <td>ultra</td>\n",
       "      <td>3</td>\n",
       "      <td>6</td>\n",
       "      <td>0</td>\n",
       "      <td>199</td>\n",
       "      <td>10187.723006</td>\n",
       "      <td>63</td>\n",
       "      <td>3</td>\n",
       "      <td>577</td>\n",
       "    </tr>\n",
       "    <tr>\n",
       "      <th>7</th>\n",
       "      <td>2</td>\n",
       "      <td>Станислав</td>\n",
       "      <td>31</td>\n",
       "      <td>Омск</td>\n",
       "      <td>ultra</td>\n",
       "      <td>4</td>\n",
       "      <td>6</td>\n",
       "      <td>0</td>\n",
       "      <td>199</td>\n",
       "      <td>6164.381824</td>\n",
       "      <td>40</td>\n",
       "      <td>2</td>\n",
       "      <td>439</td>\n",
       "    </tr>\n",
       "    <tr>\n",
       "      <th>8</th>\n",
       "      <td>2</td>\n",
       "      <td>Станислав</td>\n",
       "      <td>31</td>\n",
       "      <td>Омск</td>\n",
       "      <td>ultra</td>\n",
       "      <td>6</td>\n",
       "      <td>6</td>\n",
       "      <td>0</td>\n",
       "      <td>199</td>\n",
       "      <td>3255.338202</td>\n",
       "      <td>14</td>\n",
       "      <td>1</td>\n",
       "      <td>283</td>\n",
       "    </tr>\n",
       "    <tr>\n",
       "      <th>9</th>\n",
       "      <td>2</td>\n",
       "      <td>Станислав</td>\n",
       "      <td>31</td>\n",
       "      <td>Омск</td>\n",
       "      <td>ultra</td>\n",
       "      <td>7</td>\n",
       "      <td>6</td>\n",
       "      <td>0</td>\n",
       "      <td>199</td>\n",
       "      <td>6780.722964</td>\n",
       "      <td>48</td>\n",
       "      <td>2</td>\n",
       "      <td>487</td>\n",
       "    </tr>\n",
       "  </tbody>\n",
       "</table>\n",
       "</div>"
      ],
      "text/plain": [
       "   user_id       name  age    city subscription_type  month  minute_price  \\\n",
       "0        1       Кира   22  Тюмень             ultra      1             6   \n",
       "1        1       Кира   22  Тюмень             ultra      4             6   \n",
       "2        1       Кира   22  Тюмень             ultra      8             6   \n",
       "3        1       Кира   22  Тюмень             ultra     10             6   \n",
       "4        1       Кира   22  Тюмень             ultra     11             6   \n",
       "5        1       Кира   22  Тюмень             ultra     12             6   \n",
       "6        2  Станислав   31    Омск             ultra      3             6   \n",
       "7        2  Станислав   31    Омск             ultra      4             6   \n",
       "8        2  Станислав   31    Омск             ultra      6             6   \n",
       "9        2  Станислав   31    Омск             ultra      7             6   \n",
       "\n",
       "   start_ride_price  subscription_fee  total_distance  total_duration  \\\n",
       "0                 0               199     7027.511294              42   \n",
       "1                 0               199      754.159807               7   \n",
       "2                 0               199     6723.470560              46   \n",
       "3                 0               199     5809.911100              32   \n",
       "4                 0               199     7003.499363              56   \n",
       "5                 0               199     6751.629942              28   \n",
       "6                 0               199    10187.723006              63   \n",
       "7                 0               199     6164.381824              40   \n",
       "8                 0               199     3255.338202              14   \n",
       "9                 0               199     6780.722964              48   \n",
       "\n",
       "   total_rides  income  \n",
       "0            2     451  \n",
       "1            1     241  \n",
       "2            2     475  \n",
       "3            2     391  \n",
       "4            3     535  \n",
       "5            2     367  \n",
       "6            3     577  \n",
       "7            2     439  \n",
       "8            1     283  \n",
       "9            2     487  "
      ]
     },
     "execution_count": 55,
     "metadata": {},
     "output_type": "execute_result"
    }
   ],
   "source": [
    "#рассчитаем доход по формуле\n",
    "df_agg['income'] = (\n",
    "    df_agg['start_ride_price'] * df_agg['total_rides'] + df_agg['minute_price'] * \n",
    "    df_agg['total_duration'] + df_agg['subscription_fee'])\n",
    "    \n",
    "df_agg.head(10)"
   ]
  },
  {
   "cell_type": "markdown",
   "id": "41545ac0",
   "metadata": {},
   "source": [
    "#### Шаг 6. Проверка гипотез"
   ]
  },
  {
   "cell_type": "markdown",
   "id": "1987b656",
   "metadata": {},
   "source": [
    "6.1. Важно понять, тратят ли пользователи с подпиской больше времени на поездки? Если да, то пользователи с подпиской могут быть «выгоднее» для компании.\n",
    "\n",
    "**Гипотеза №1: Пользователи с подпиской тратят больше времени на поездки, чем пользователи без подписки.**\n",
    "\n",
    "Нулевая гипотеза (H0): Средние значения продолжительности поездок для пользователей с подпиской и без подписки равны.\n",
    "\n",
    "Альтернативная гипотеза (H1): Средние значения продолжительности поездок для пользователей с подпиской больше, чем у пользователей без подписки."
   ]
  },
  {
   "cell_type": "code",
   "execution_count": 56,
   "id": "537ca90d",
   "metadata": {},
   "outputs": [
    {
     "name": "stdout",
     "output_type": "stream",
     "text": [
      "p-значение: 1.2804098316645618e-34\n",
      "Отвергаем нулевую гипотезу\n"
     ]
    }
   ],
   "source": [
    "alpha = 0.05 #уровень статистической значимости\n",
    "\n",
    "results = st.ttest_ind(df_ultra['duration'], df_free['duration'], alternative='greater')\n",
    "\n",
    "print('p-значение:', results.pvalue)\n",
    "\n",
    "if results.pvalue < alpha:\n",
    "    print('Отвергаем нулевую гипотезу')\n",
    "else:\n",
    "    print('Не отвергаем нулевую гипотезу')"
   ]
  },
  {
   "cell_type": "code",
   "execution_count": 57,
   "id": "79c798c7",
   "metadata": {},
   "outputs": [
    {
     "name": "stdout",
     "output_type": "stream",
     "text": [
      "Среднее время поездки с тарифом ultra: 18.54\n",
      "Среднее время поездки с тарифом free: 17.39\n"
     ]
    }
   ],
   "source": [
    "print('Среднее время поездки с тарифом ultra:', round(df_ultra['duration'].mean(),2))\n",
    "print('Среднее время поездки с тарифом free:', round(df_free['duration'].mean(),2))"
   ]
  },
  {
   "cell_type": "markdown",
   "id": "c82ae291",
   "metadata": {},
   "source": [
    "Вывод: среднее время поездки с тарифом ultra выше, чем с тарифом free. Пользователи с подпиской могут быть выгоднее компании"
   ]
  },
  {
   "cell_type": "markdown",
   "id": "0d184e81",
   "metadata": {},
   "source": [
    "6.2 Расстояние одной поездки в 3130 метров — оптимальное с точки зрения износа самоката. Можно ли сказать, что среднее расстояние, которое проезжают пользователи с подпиской за одну поездку, не превышает 3130 метров? \n",
    "\n",
    "**Гипотеза №2: Пользователи с подпиской проезжают в среднем 3130 метров.**\n",
    "\n",
    "Нулевая гипотеза (H0): Среднее расстояние, которое проезжает пользователь с подпиской, равно 3130 метров.\n",
    "\n",
    "Альтернативная гипотеза (H1): Среднее расстояние, которое проезжает пользователь с подпиской, больше 3130 метров"
   ]
  },
  {
   "cell_type": "code",
   "execution_count": 58,
   "id": "2d4d2f4f",
   "metadata": {},
   "outputs": [
    {
     "name": "stdout",
     "output_type": "stream",
     "text": [
      "p-значение: 0.9195368847849785\n",
      "Не получилось отвергнуть нулевую гипотезу\n"
     ]
    }
   ],
   "source": [
    "interested_value = 3130 \n",
    "\n",
    "alpha = 0.05 #уровень статистической значимости\n",
    "\n",
    "results = st.ttest_1samp(df_ultra['distance'], interested_value, alternative='greater')\n",
    "\n",
    "print('p-значение:', results.pvalue)\n",
    "\n",
    "if results.pvalue < alpha:\n",
    "    print('Отвергаем нулевую гипотезу')\n",
    "else:\n",
    "    print('Не получилось отвергнуть нулевую гипотезу')"
   ]
  },
  {
   "cell_type": "code",
   "execution_count": 59,
   "id": "13fe71e7",
   "metadata": {},
   "outputs": [
    {
     "name": "stdout",
     "output_type": "stream",
     "text": [
      "Среднее расстояние поездки с тарифом ultra: 3115.45\n",
      "Среднее расстояние поездки с тарифом free: 3045.5\n"
     ]
    }
   ],
   "source": [
    "print('Среднее расстояние поездки с тарифом ultra:', round(df_ultra['distance'].mean(),2))\n",
    "print('Среднее расстояние поездки с тарифом free:', round(df_free['distance'].mean(),2))"
   ]
  },
  {
   "cell_type": "markdown",
   "id": "8197d28c",
   "metadata": {},
   "source": [
    "Вывод: среднее расстояние для пользователей с подпиской не превышает значение в 3130 метров"
   ]
  },
  {
   "cell_type": "markdown",
   "id": "6ebb44c7",
   "metadata": {},
   "source": [
    "6.3 Проверим гипотезу о том, будет ли помесячная выручка от пользователей с подпиской по месяцам выше, чем выручка от пользователей без подписки. \n",
    "\n",
    "**Гипотеза №3: Помесячная выручка от пользователей с подпиской по месяцам выше, чем выручка от пользователей без подписки.**\n",
    "\n",
    "Нулевая гипотеза (H0): Средние значения помесячной выручки от пользователей с подпиской и без подписки равны.\n",
    "\n",
    "Альтернативная гипотеза (H1): Средние значения помесячной выручки от пользователей с подпиской больше, чем выручка от пользователей без подписки."
   ]
  },
  {
   "cell_type": "code",
   "execution_count": 60,
   "id": "ee9fafff",
   "metadata": {},
   "outputs": [
    {
     "name": "stdout",
     "output_type": "stream",
     "text": [
      "p-значение: 1.8850394384715216e-31\n",
      "Отвергаем нулевую гипотезу\n"
     ]
    }
   ],
   "source": [
    "df_agg_ultra = df_agg.query('subscription_type == \"ultra\"')\n",
    "df_agg_free = df_agg.query('subscription_type == \"free\"')\n",
    "\n",
    "alpha = 0.05 #уровень статистической значимости\n",
    "\n",
    "results = st.ttest_ind(df_agg_ultra['income'], df_agg_free['income'], alternative='greater')\n",
    "\n",
    "print('p-значение:', results.pvalue)\n",
    "\n",
    "if results.pvalue < alpha:\n",
    "    print('Отвергаем нулевую гипотезу')\n",
    "else:\n",
    "    print('Нет оснований отвергнуть нулевую гипотезу')"
   ]
  },
  {
   "cell_type": "code",
   "execution_count": 61,
   "id": "0f19620f",
   "metadata": {},
   "outputs": [
    {
     "name": "stdout",
     "output_type": "stream",
     "text": [
      "Средняя выручка пользователей с тарифом ultra: 362.79\n",
      "Средняя выручка пользователей с тарифом free: 328.64\n"
     ]
    }
   ],
   "source": [
    "print('Средняя выручка пользователей с тарифом ultra:', round(df_agg_ultra['income'].mean(),2))\n",
    "print('Средняя выручка пользователей с тарифом free:', round(df_agg_free['income'].mean(),2))"
   ]
  },
  {
   "cell_type": "markdown",
   "id": "fbba4def",
   "metadata": {},
   "source": [
    "Вывод: помесячная выручка от пользователей с подпиской в среднем выше, чем от пользователей без подписки"
   ]
  },
  {
   "cell_type": "markdown",
   "id": "796adc0d",
   "metadata": {},
   "source": [
    "6.4 Представьте такую ситуацию: техническая команда сервиса обновила сервера, с которыми взаимодействует мобильное приложение. Она надеется, что из-за этого количество обращений в техподдержку значимо снизилось. Некоторый файл содержит для каждого пользователя данные о количестве обращений до обновления и после него. Какой тест вам понадобился бы для проверки этой гипотезы?\n",
    "\n",
    "**Гипотеза №4: Количество обращений от пользователей будет меньше после технического обновления на стороне сервера**\n",
    "\n",
    "Нулевая гипотеза (H0): Количество обращений до и после обновления серверов равны.\n",
    "\n",
    "Альтернативная гипотеза (H1): Количество обращений после обновления серверов меньше, чем до обновления.\n",
    "\n",
    "Для проверки можно использовать тест о равенстве средних для зависимых (парных) выборок. Используя метод scipy.stats.ttest_rel() передать два параметра: данные об обращениях до обновления и после обновления.\n"
   ]
  },
  {
   "cell_type": "markdown",
   "id": "7bd4bc8e",
   "metadata": {},
   "source": [
    "**Выводы:**\n",
    "\n",
    "В результате анализа были проверены несколько гипотез.\n",
    "\n",
    "На основе полученных данных можно сказать, что пользователи с подпиской, в среднем тратят больше времени на поездки, чем пользователи без подписки.\n",
    "\n",
    "Среднее время, которое пользователи с подпиской проезжают на самокате, не превышает 3130 метров.\n",
    "\n",
    "Помесячная выручка от пользователей с подпиской в среднем выше, чем от пользователей без подписки.\n",
    "\n",
    "Данные свидетельствуют о том, что для компании пользователи с подпиской являются более выгодными, чем пользователи без подписки.\n"
   ]
  },
  {
   "cell_type": "markdown",
   "id": "114f4562",
   "metadata": {},
   "source": [
    "**Общие выводы:**\n",
    "\n",
    "В результате исследования сервиса аренды самокатов GoFast были проанализированы три датафрейма, которые содержат информацию о пользователях, поездках и подписке.\n",
    "\n",
    "На этапе предобработки данных были проверены дубликаты и пропуски, добавлены новые столбцы, исправлены некоторые форматы данных. Критичных ошибок не обнаружено.\n",
    "\n",
    "Всего для анализа представлены данные о поездках из 8 городов. Больше всего пользователей из Пятигорска, Екатеринбурга и Ростова-на-Дону. Меньше всего из Москвы. Возможно, это связано с тем, что данный сервис в Москве не так популярен или только открылся.\n",
    "\n",
    "Больше половины пользователей пользуются самокатами без подписки (54,4%), остальная часть пользователей оплачивает подписку (45,6%).\n",
    "\n",
    "Если смотреть на возраст пользователей, то почти 50% от всего количества пользователей — это молодые люди в возрасте от 22 до 27 лет.\n",
    "\n",
    "Для пользователей с тарифом free большая часть поездок приходится на расстояние от 2,3 км до 3,9 км. Для пользователей с тарифом ultra — это поездки от 2,7 км до 3,5 км. Среднее время в пути для пользователей тарифа free 17,3 минуты, а для тарифа ultra — 18,5 минут.\n",
    "\n",
    "В результате исследования были проверены несколько гипотез, которые позволили сделать следующие предположения:\n",
    "- Пользователи с подпиской, в среднем тратят больше времени на поездки, чем пользователи без подписки.\n",
    "- Среднее время, которое пользователи с подпиской проезжают на самокате, не превышает 3130 метров.\n",
    "- Помесячная выручка от пользователей с подпиской в среднем выше, чем от пользователей без подписки.\n",
    "\n",
    "На основе  этих данных можно дать следующие рекомендации для отдела маркетинга:\n",
    "1) Продвигать сервис платной подписки, т.к. для компании такие пользователи приносят больше прибыли. Использовать различные маркетинговые активности (реклама, рассылка email, пуш-уведомления, акции).\n",
    "\n",
    "2) Добавить дополнительные преимущества для платной подписки или сделать промо-период с более низкой ценой подписки, чтобы пользователи смогли оценить все преимущества.\n",
    "\n",
    "3) Развивать маршруты и обновлять парк самокатов, упросить систему регистрации, как вариант. Всплеск активности на 1 минуте использования, возможно, говорит о том, что у пользователей возникли сложности.\n"
   ]
  }
 ],
 "metadata": {
  "ExecuteTimeLog": [
   {
    "duration": 1368,
    "start_time": "2024-12-05T18:53:39.268Z"
   },
   {
    "duration": 409,
    "start_time": "2024-12-05T19:00:32.364Z"
   },
   {
    "duration": 85,
    "start_time": "2024-12-05T19:00:49.368Z"
   },
   {
    "duration": 86,
    "start_time": "2024-12-05T19:02:19.202Z"
   },
   {
    "duration": 16,
    "start_time": "2024-12-05T19:02:32.863Z"
   },
   {
    "duration": 10,
    "start_time": "2024-12-05T19:02:44.661Z"
   },
   {
    "duration": 9,
    "start_time": "2024-12-05T19:02:55.336Z"
   },
   {
    "duration": 7,
    "start_time": "2024-12-05T19:03:12.610Z"
   },
   {
    "duration": 9,
    "start_time": "2024-12-05T19:03:23.198Z"
   },
   {
    "duration": 1349,
    "start_time": "2024-12-06T15:16:46.066Z"
   },
   {
    "duration": 391,
    "start_time": "2024-12-06T15:16:47.416Z"
   },
   {
    "duration": 11,
    "start_time": "2024-12-06T15:16:47.809Z"
   },
   {
    "duration": 8,
    "start_time": "2024-12-06T15:16:47.822Z"
   },
   {
    "duration": 30,
    "start_time": "2024-12-06T15:16:47.831Z"
   },
   {
    "duration": 11,
    "start_time": "2024-12-06T15:47:26.756Z"
   },
   {
    "duration": 10,
    "start_time": "2024-12-06T15:47:49.190Z"
   },
   {
    "duration": 7,
    "start_time": "2024-12-06T15:48:14.128Z"
   },
   {
    "duration": 10,
    "start_time": "2024-12-06T15:48:18.622Z"
   },
   {
    "duration": 8,
    "start_time": "2024-12-06T15:48:29.125Z"
   },
   {
    "duration": 10,
    "start_time": "2024-12-06T15:48:35.620Z"
   },
   {
    "duration": 5,
    "start_time": "2024-12-06T15:50:46.531Z"
   },
   {
    "duration": 10,
    "start_time": "2024-12-06T15:50:52.827Z"
   },
   {
    "duration": 8,
    "start_time": "2024-12-06T15:51:02.681Z"
   },
   {
    "duration": 6,
    "start_time": "2024-12-06T15:54:02.513Z"
   },
   {
    "duration": 6,
    "start_time": "2024-12-06T15:54:10.883Z"
   },
   {
    "duration": 5,
    "start_time": "2024-12-06T15:54:30.632Z"
   },
   {
    "duration": 5,
    "start_time": "2024-12-06T15:54:52.972Z"
   },
   {
    "duration": 8,
    "start_time": "2024-12-06T15:55:10.904Z"
   },
   {
    "duration": 5,
    "start_time": "2024-12-06T15:55:26.404Z"
   },
   {
    "duration": 93,
    "start_time": "2024-12-06T16:00:57.607Z"
   },
   {
    "duration": 4,
    "start_time": "2024-12-06T16:01:06.968Z"
   },
   {
    "duration": 5,
    "start_time": "2024-12-06T16:01:45.453Z"
   },
   {
    "duration": 3,
    "start_time": "2024-12-06T16:01:47.199Z"
   },
   {
    "duration": 5,
    "start_time": "2024-12-06T16:01:52.881Z"
   },
   {
    "duration": 4,
    "start_time": "2024-12-06T16:01:59.155Z"
   },
   {
    "duration": 6,
    "start_time": "2024-12-06T16:02:18.250Z"
   },
   {
    "duration": 2,
    "start_time": "2024-12-06T16:05:45.567Z"
   },
   {
    "duration": 3,
    "start_time": "2024-12-06T16:05:51.036Z"
   },
   {
    "duration": 2,
    "start_time": "2024-12-06T16:07:00.539Z"
   },
   {
    "duration": 95,
    "start_time": "2024-12-06T16:07:00.545Z"
   },
   {
    "duration": 8,
    "start_time": "2024-12-06T16:07:00.642Z"
   },
   {
    "duration": 18,
    "start_time": "2024-12-06T16:07:00.651Z"
   },
   {
    "duration": 26,
    "start_time": "2024-12-06T16:07:00.670Z"
   },
   {
    "duration": 15,
    "start_time": "2024-12-06T16:07:00.697Z"
   },
   {
    "duration": 64,
    "start_time": "2024-12-06T16:07:00.714Z"
   },
   {
    "duration": 11,
    "start_time": "2024-12-06T16:07:00.780Z"
   },
   {
    "duration": 7,
    "start_time": "2024-12-06T16:07:00.793Z"
   },
   {
    "duration": 21,
    "start_time": "2024-12-06T16:07:00.801Z"
   },
   {
    "duration": 25,
    "start_time": "2024-12-06T16:07:00.823Z"
   },
   {
    "duration": 12,
    "start_time": "2024-12-06T16:07:00.850Z"
   },
   {
    "duration": 18,
    "start_time": "2024-12-06T16:07:00.863Z"
   },
   {
    "duration": 10,
    "start_time": "2024-12-06T16:07:00.882Z"
   },
   {
    "duration": 5,
    "start_time": "2024-12-06T16:07:00.894Z"
   },
   {
    "duration": 19,
    "start_time": "2024-12-06T16:07:00.900Z"
   },
   {
    "duration": 9,
    "start_time": "2024-12-06T16:07:00.921Z"
   },
   {
    "duration": 4,
    "start_time": "2024-12-06T16:07:00.931Z"
   },
   {
    "duration": 6,
    "start_time": "2024-12-06T16:07:00.936Z"
   },
   {
    "duration": 16,
    "start_time": "2024-12-06T16:07:00.943Z"
   },
   {
    "duration": 28,
    "start_time": "2024-12-06T16:07:00.960Z"
   },
   {
    "duration": 4,
    "start_time": "2024-12-06T16:10:25.105Z"
   },
   {
    "duration": 4,
    "start_time": "2024-12-06T16:14:09.530Z"
   },
   {
    "duration": 4,
    "start_time": "2024-12-06T16:14:42.896Z"
   },
   {
    "duration": 10,
    "start_time": "2024-12-06T16:53:21.963Z"
   },
   {
    "duration": 11,
    "start_time": "2024-12-06T16:53:27.869Z"
   },
   {
    "duration": 160,
    "start_time": "2024-12-06T16:54:01.906Z"
   },
   {
    "duration": 731,
    "start_time": "2024-12-06T16:57:30.820Z"
   },
   {
    "duration": 156,
    "start_time": "2024-12-06T16:58:38.554Z"
   },
   {
    "duration": 139,
    "start_time": "2024-12-06T16:58:47.165Z"
   },
   {
    "duration": 1162,
    "start_time": "2024-12-06T16:58:57.078Z"
   },
   {
    "duration": 9,
    "start_time": "2024-12-06T16:59:02.964Z"
   },
   {
    "duration": 14,
    "start_time": "2024-12-06T17:00:10.337Z"
   },
   {
    "duration": 13,
    "start_time": "2024-12-06T17:02:27.571Z"
   },
   {
    "duration": 12,
    "start_time": "2024-12-06T17:02:31.499Z"
   },
   {
    "duration": 159,
    "start_time": "2024-12-06T17:02:39.832Z"
   },
   {
    "duration": 19,
    "start_time": "2024-12-06T17:03:43.885Z"
   },
   {
    "duration": 11,
    "start_time": "2024-12-06T17:04:15.169Z"
   },
   {
    "duration": 153,
    "start_time": "2024-12-06T17:04:17.451Z"
   },
   {
    "duration": 152,
    "start_time": "2024-12-06T17:04:35.199Z"
   },
   {
    "duration": 11,
    "start_time": "2024-12-06T17:05:32.666Z"
   },
   {
    "duration": 11,
    "start_time": "2024-12-06T17:06:25.669Z"
   },
   {
    "duration": 151,
    "start_time": "2024-12-06T17:06:29.304Z"
   },
   {
    "duration": 191,
    "start_time": "2024-12-06T17:06:48.682Z"
   },
   {
    "duration": 2,
    "start_time": "2024-12-06T17:07:22.807Z"
   },
   {
    "duration": 150,
    "start_time": "2024-12-06T17:07:27.268Z"
   },
   {
    "duration": 10,
    "start_time": "2024-12-06T17:07:32.403Z"
   },
   {
    "duration": 120,
    "start_time": "2024-12-06T17:07:34.338Z"
   },
   {
    "duration": 141,
    "start_time": "2024-12-06T17:07:39.883Z"
   },
   {
    "duration": 114,
    "start_time": "2024-12-06T17:07:45.515Z"
   },
   {
    "duration": 164,
    "start_time": "2024-12-06T18:33:36.867Z"
   },
   {
    "duration": 116,
    "start_time": "2024-12-06T18:34:17.201Z"
   },
   {
    "duration": 226,
    "start_time": "2024-12-06T18:42:37.076Z"
   },
   {
    "duration": 215,
    "start_time": "2024-12-06T18:42:52.489Z"
   },
   {
    "duration": 228,
    "start_time": "2024-12-06T18:43:04.517Z"
   },
   {
    "duration": 89,
    "start_time": "2024-12-06T18:43:30.065Z"
   },
   {
    "duration": 179,
    "start_time": "2024-12-06T18:43:42.139Z"
   },
   {
    "duration": 344,
    "start_time": "2024-12-06T18:43:54.995Z"
   },
   {
    "duration": 207,
    "start_time": "2024-12-06T18:44:45.094Z"
   },
   {
    "duration": 264,
    "start_time": "2024-12-06T18:45:44.512Z"
   },
   {
    "duration": 13,
    "start_time": "2024-12-06T18:47:00.357Z"
   },
   {
    "duration": 13,
    "start_time": "2024-12-06T18:47:10.488Z"
   },
   {
    "duration": 12,
    "start_time": "2024-12-06T18:49:24.600Z"
   },
   {
    "duration": 139,
    "start_time": "2024-12-06T18:49:30.827Z"
   },
   {
    "duration": 125,
    "start_time": "2024-12-06T18:52:02.066Z"
   },
   {
    "duration": 20,
    "start_time": "2024-12-06T18:53:05.957Z"
   },
   {
    "duration": 11,
    "start_time": "2024-12-06T18:53:23.155Z"
   },
   {
    "duration": 528,
    "start_time": "2024-12-06T18:55:27.811Z"
   },
   {
    "duration": 117,
    "start_time": "2024-12-06T18:56:50.449Z"
   },
   {
    "duration": 131,
    "start_time": "2024-12-06T18:57:08.309Z"
   },
   {
    "duration": 121,
    "start_time": "2024-12-06T18:57:22.575Z"
   },
   {
    "duration": 128,
    "start_time": "2024-12-06T18:57:29.204Z"
   },
   {
    "duration": 122,
    "start_time": "2024-12-06T18:57:38.381Z"
   },
   {
    "duration": 200,
    "start_time": "2024-12-06T18:58:50.321Z"
   },
   {
    "duration": 119,
    "start_time": "2024-12-06T19:00:29.972Z"
   },
   {
    "duration": 164,
    "start_time": "2024-12-06T19:00:41.888Z"
   },
   {
    "duration": 211,
    "start_time": "2024-12-06T19:02:47.053Z"
   },
   {
    "duration": 196,
    "start_time": "2024-12-06T19:02:58.008Z"
   },
   {
    "duration": 222,
    "start_time": "2024-12-06T19:03:05.038Z"
   },
   {
    "duration": 8,
    "start_time": "2024-12-06T19:04:41.718Z"
   },
   {
    "duration": 184,
    "start_time": "2024-12-06T19:04:58.722Z"
   },
   {
    "duration": 185,
    "start_time": "2024-12-06T19:07:57.373Z"
   },
   {
    "duration": 183,
    "start_time": "2024-12-06T19:08:25.177Z"
   },
   {
    "duration": 189,
    "start_time": "2024-12-06T19:10:00.619Z"
   },
   {
    "duration": 188,
    "start_time": "2024-12-06T19:10:30.159Z"
   },
   {
    "duration": 224,
    "start_time": "2024-12-06T19:10:42.215Z"
   },
   {
    "duration": 193,
    "start_time": "2024-12-06T19:10:46.686Z"
   },
   {
    "duration": 9,
    "start_time": "2024-12-06T19:11:02.466Z"
   },
   {
    "duration": 8,
    "start_time": "2024-12-06T19:11:08.029Z"
   },
   {
    "duration": 4,
    "start_time": "2024-12-06T19:29:52.505Z"
   },
   {
    "duration": 7,
    "start_time": "2024-12-06T19:29:56.552Z"
   },
   {
    "duration": 169,
    "start_time": "2024-12-06T19:33:20.487Z"
   },
   {
    "duration": 243,
    "start_time": "2024-12-06T19:33:43.386Z"
   },
   {
    "duration": 147,
    "start_time": "2024-12-06T19:33:49.142Z"
   },
   {
    "duration": 142,
    "start_time": "2024-12-06T19:33:53.696Z"
   },
   {
    "duration": 149,
    "start_time": "2024-12-06T19:33:57.420Z"
   },
   {
    "duration": 162,
    "start_time": "2024-12-06T19:34:04.115Z"
   },
   {
    "duration": 145,
    "start_time": "2024-12-06T19:34:10.086Z"
   },
   {
    "duration": 152,
    "start_time": "2024-12-06T19:34:31.430Z"
   },
   {
    "duration": 286,
    "start_time": "2024-12-06T19:35:22.841Z"
   },
   {
    "duration": 1390,
    "start_time": "2024-12-07T15:23:16.334Z"
   },
   {
    "duration": 3,
    "start_time": "2024-12-07T15:23:17.726Z"
   },
   {
    "duration": 431,
    "start_time": "2024-12-07T15:23:17.730Z"
   },
   {
    "duration": 12,
    "start_time": "2024-12-07T15:23:18.163Z"
   },
   {
    "duration": 7,
    "start_time": "2024-12-07T15:23:18.177Z"
   },
   {
    "duration": 9,
    "start_time": "2024-12-07T15:23:18.185Z"
   },
   {
    "duration": 12,
    "start_time": "2024-12-07T15:23:18.195Z"
   },
   {
    "duration": 11,
    "start_time": "2024-12-07T15:23:18.209Z"
   },
   {
    "duration": 7,
    "start_time": "2024-12-07T15:23:18.221Z"
   },
   {
    "duration": 9,
    "start_time": "2024-12-07T15:23:18.230Z"
   },
   {
    "duration": 8,
    "start_time": "2024-12-07T15:23:18.241Z"
   },
   {
    "duration": 23,
    "start_time": "2024-12-07T15:23:18.251Z"
   },
   {
    "duration": 6,
    "start_time": "2024-12-07T15:23:18.276Z"
   },
   {
    "duration": 8,
    "start_time": "2024-12-07T15:23:18.283Z"
   },
   {
    "duration": 5,
    "start_time": "2024-12-07T15:23:18.293Z"
   },
   {
    "duration": 7,
    "start_time": "2024-12-07T15:23:18.320Z"
   },
   {
    "duration": 18,
    "start_time": "2024-12-07T15:23:18.329Z"
   },
   {
    "duration": 12,
    "start_time": "2024-12-07T15:23:18.348Z"
   },
   {
    "duration": 4,
    "start_time": "2024-12-07T15:23:18.362Z"
   },
   {
    "duration": 7,
    "start_time": "2024-12-07T15:23:18.368Z"
   },
   {
    "duration": 9,
    "start_time": "2024-12-07T15:23:18.377Z"
   },
   {
    "duration": 5,
    "start_time": "2024-12-07T15:23:18.388Z"
   },
   {
    "duration": 28,
    "start_time": "2024-12-07T15:23:18.394Z"
   },
   {
    "duration": 47,
    "start_time": "2024-12-07T15:23:18.423Z"
   },
   {
    "duration": 4,
    "start_time": "2024-12-07T15:23:18.471Z"
   },
   {
    "duration": 12,
    "start_time": "2024-12-07T15:23:18.477Z"
   },
   {
    "duration": 167,
    "start_time": "2024-12-07T15:23:18.491Z"
   },
   {
    "duration": 11,
    "start_time": "2024-12-07T15:23:18.661Z"
   },
   {
    "duration": 164,
    "start_time": "2024-12-07T15:23:18.673Z"
   },
   {
    "duration": 12,
    "start_time": "2024-12-07T15:23:18.838Z"
   },
   {
    "duration": 195,
    "start_time": "2024-12-07T15:23:18.851Z"
   },
   {
    "duration": 198,
    "start_time": "2024-12-07T15:23:19.048Z"
   },
   {
    "duration": 8,
    "start_time": "2024-12-07T15:23:19.248Z"
   },
   {
    "duration": 228,
    "start_time": "2024-12-07T15:23:19.257Z"
   },
   {
    "duration": 222,
    "start_time": "2024-12-07T15:23:19.486Z"
   },
   {
    "duration": 13,
    "start_time": "2024-12-07T15:23:19.709Z"
   },
   {
    "duration": 30,
    "start_time": "2024-12-07T16:50:30.875Z"
   },
   {
    "duration": 30,
    "start_time": "2024-12-07T16:51:47.233Z"
   },
   {
    "duration": 3,
    "start_time": "2024-12-07T16:56:40.163Z"
   },
   {
    "duration": 3,
    "start_time": "2024-12-07T16:56:53.702Z"
   },
   {
    "duration": 3,
    "start_time": "2024-12-07T16:57:10.062Z"
   },
   {
    "duration": 12,
    "start_time": "2024-12-07T17:01:58.434Z"
   },
   {
    "duration": 12,
    "start_time": "2024-12-07T17:02:19.594Z"
   },
   {
    "duration": 12,
    "start_time": "2024-12-07T17:02:28.154Z"
   },
   {
    "duration": 106,
    "start_time": "2024-12-07T17:07:36.916Z"
   },
   {
    "duration": 330,
    "start_time": "2024-12-07T17:09:41.500Z"
   },
   {
    "duration": 228,
    "start_time": "2024-12-07T17:09:55.841Z"
   },
   {
    "duration": 243,
    "start_time": "2024-12-07T17:10:05.229Z"
   },
   {
    "duration": 27,
    "start_time": "2024-12-07T17:12:55.469Z"
   },
   {
    "duration": 4,
    "start_time": "2024-12-07T17:12:58.086Z"
   },
   {
    "duration": 3,
    "start_time": "2024-12-07T17:13:00.957Z"
   },
   {
    "duration": 25,
    "start_time": "2024-12-07T17:13:02.615Z"
   },
   {
    "duration": 13,
    "start_time": "2024-12-07T17:13:08.379Z"
   },
   {
    "duration": 12,
    "start_time": "2024-12-07T17:13:10.184Z"
   },
   {
    "duration": 239,
    "start_time": "2024-12-07T17:13:12.399Z"
   },
   {
    "duration": 226,
    "start_time": "2024-12-07T17:15:12.932Z"
   },
   {
    "duration": 373,
    "start_time": "2024-12-07T17:16:32.706Z"
   },
   {
    "duration": 249,
    "start_time": "2024-12-07T17:17:24.431Z"
   },
   {
    "duration": 232,
    "start_time": "2024-12-07T17:18:54.063Z"
   },
   {
    "duration": 237,
    "start_time": "2024-12-07T17:19:22.090Z"
   },
   {
    "duration": 246,
    "start_time": "2024-12-07T17:19:33.006Z"
   },
   {
    "duration": 255,
    "start_time": "2024-12-07T17:19:44.521Z"
   },
   {
    "duration": 316,
    "start_time": "2024-12-07T17:19:48.497Z"
   },
   {
    "duration": 289,
    "start_time": "2024-12-07T17:20:45.171Z"
   },
   {
    "duration": 277,
    "start_time": "2024-12-07T17:21:07.392Z"
   },
   {
    "duration": 338,
    "start_time": "2024-12-07T17:21:27.185Z"
   },
   {
    "duration": 197,
    "start_time": "2024-12-07T17:21:37.053Z"
   },
   {
    "duration": 300,
    "start_time": "2024-12-07T17:21:41.610Z"
   },
   {
    "duration": 363,
    "start_time": "2024-12-07T17:21:46.716Z"
   },
   {
    "duration": 314,
    "start_time": "2024-12-07T17:24:13.662Z"
   },
   {
    "duration": 284,
    "start_time": "2024-12-07T17:41:38.945Z"
   },
   {
    "duration": 299,
    "start_time": "2024-12-07T17:46:01.138Z"
   },
   {
    "duration": 8,
    "start_time": "2024-12-07T17:50:01.139Z"
   },
   {
    "duration": 8,
    "start_time": "2024-12-07T17:50:09.257Z"
   },
   {
    "duration": 9,
    "start_time": "2024-12-07T17:51:08.648Z"
   },
   {
    "duration": 9,
    "start_time": "2024-12-07T17:51:11.386Z"
   },
   {
    "duration": 8,
    "start_time": "2024-12-07T17:51:49.542Z"
   },
   {
    "duration": 9,
    "start_time": "2024-12-07T17:51:51.772Z"
   },
   {
    "duration": 283,
    "start_time": "2024-12-07T17:54:09.705Z"
   },
   {
    "duration": 3,
    "start_time": "2024-12-07T18:08:04.111Z"
   },
   {
    "duration": 4,
    "start_time": "2024-12-07T18:11:53.493Z"
   },
   {
    "duration": 40,
    "start_time": "2024-12-07T18:16:10.944Z"
   },
   {
    "duration": 36,
    "start_time": "2024-12-07T18:21:30.513Z"
   },
   {
    "duration": 41,
    "start_time": "2024-12-07T18:23:08.980Z"
   },
   {
    "duration": 39,
    "start_time": "2024-12-07T18:23:29.719Z"
   },
   {
    "duration": 36,
    "start_time": "2024-12-07T18:24:38.353Z"
   },
   {
    "duration": 93,
    "start_time": "2024-12-07T18:25:06.564Z"
   },
   {
    "duration": 83,
    "start_time": "2024-12-07T18:25:17.710Z"
   },
   {
    "duration": 14,
    "start_time": "2024-12-07T18:25:30.989Z"
   },
   {
    "duration": 15,
    "start_time": "2024-12-07T18:26:06.846Z"
   },
   {
    "duration": 38,
    "start_time": "2024-12-07T18:27:43.477Z"
   },
   {
    "duration": 40,
    "start_time": "2024-12-07T18:27:45.275Z"
   },
   {
    "duration": 14,
    "start_time": "2024-12-07T18:27:49.117Z"
   },
   {
    "duration": 11,
    "start_time": "2024-12-07T18:47:15.941Z"
   },
   {
    "duration": 3,
    "start_time": "2024-12-07T18:47:55.128Z"
   },
   {
    "duration": 6,
    "start_time": "2024-12-07T18:48:33.667Z"
   },
   {
    "duration": 4,
    "start_time": "2024-12-07T18:50:00.196Z"
   },
   {
    "duration": 4,
    "start_time": "2024-12-07T18:51:03.475Z"
   },
   {
    "duration": 5,
    "start_time": "2024-12-07T18:58:34.563Z"
   },
   {
    "duration": 5,
    "start_time": "2024-12-07T19:03:15.410Z"
   },
   {
    "duration": 15,
    "start_time": "2024-12-07T19:10:58.493Z"
   },
   {
    "duration": 4,
    "start_time": "2024-12-07T19:13:43.157Z"
   },
   {
    "duration": 14,
    "start_time": "2024-12-07T19:14:42.578Z"
   },
   {
    "duration": 1478,
    "start_time": "2024-12-08T16:27:13.223Z"
   },
   {
    "duration": 4,
    "start_time": "2024-12-08T16:27:14.703Z"
   },
   {
    "duration": 419,
    "start_time": "2024-12-08T16:27:14.709Z"
   },
   {
    "duration": 12,
    "start_time": "2024-12-08T16:27:15.130Z"
   },
   {
    "duration": 15,
    "start_time": "2024-12-08T16:27:15.145Z"
   },
   {
    "duration": 8,
    "start_time": "2024-12-08T16:27:15.162Z"
   },
   {
    "duration": 25,
    "start_time": "2024-12-08T16:27:15.172Z"
   },
   {
    "duration": 56,
    "start_time": "2024-12-08T16:27:15.199Z"
   },
   {
    "duration": 8,
    "start_time": "2024-12-08T16:27:15.257Z"
   },
   {
    "duration": 13,
    "start_time": "2024-12-08T16:27:15.267Z"
   },
   {
    "duration": 38,
    "start_time": "2024-12-08T16:27:15.282Z"
   },
   {
    "duration": 44,
    "start_time": "2024-12-08T16:27:15.321Z"
   },
   {
    "duration": 7,
    "start_time": "2024-12-08T16:27:15.367Z"
   },
   {
    "duration": 8,
    "start_time": "2024-12-08T16:27:15.378Z"
   },
   {
    "duration": 7,
    "start_time": "2024-12-08T16:27:15.387Z"
   },
   {
    "duration": 22,
    "start_time": "2024-12-08T16:27:15.396Z"
   },
   {
    "duration": 4,
    "start_time": "2024-12-08T16:27:15.421Z"
   },
   {
    "duration": 19,
    "start_time": "2024-12-08T16:27:15.427Z"
   },
   {
    "duration": 18,
    "start_time": "2024-12-08T16:27:15.448Z"
   },
   {
    "duration": 6,
    "start_time": "2024-12-08T16:27:15.468Z"
   },
   {
    "duration": 9,
    "start_time": "2024-12-08T16:27:15.476Z"
   },
   {
    "duration": 10,
    "start_time": "2024-12-08T16:27:15.487Z"
   },
   {
    "duration": 8,
    "start_time": "2024-12-08T16:27:15.499Z"
   },
   {
    "duration": 5,
    "start_time": "2024-12-08T16:27:15.509Z"
   },
   {
    "duration": 4,
    "start_time": "2024-12-08T16:27:15.516Z"
   },
   {
    "duration": 50,
    "start_time": "2024-12-08T16:27:15.522Z"
   },
   {
    "duration": 190,
    "start_time": "2024-12-08T16:27:15.574Z"
   },
   {
    "duration": 13,
    "start_time": "2024-12-08T16:27:15.765Z"
   },
   {
    "duration": 153,
    "start_time": "2024-12-08T16:27:15.780Z"
   },
   {
    "duration": 14,
    "start_time": "2024-12-08T16:27:15.935Z"
   },
   {
    "duration": 232,
    "start_time": "2024-12-08T16:27:15.962Z"
   },
   {
    "duration": 206,
    "start_time": "2024-12-08T16:27:16.196Z"
   },
   {
    "duration": 10,
    "start_time": "2024-12-08T16:27:16.404Z"
   },
   {
    "duration": 189,
    "start_time": "2024-12-08T16:27:16.415Z"
   },
   {
    "duration": 238,
    "start_time": "2024-12-08T16:27:16.606Z"
   },
   {
    "duration": 18,
    "start_time": "2024-12-08T16:27:16.846Z"
   },
   {
    "duration": 27,
    "start_time": "2024-12-08T16:27:16.866Z"
   },
   {
    "duration": 3,
    "start_time": "2024-12-08T16:27:16.895Z"
   },
   {
    "duration": 33,
    "start_time": "2024-12-08T16:27:16.900Z"
   },
   {
    "duration": 13,
    "start_time": "2024-12-08T16:27:16.935Z"
   },
   {
    "duration": 17,
    "start_time": "2024-12-08T16:27:16.966Z"
   },
   {
    "duration": 395,
    "start_time": "2024-12-08T16:27:16.985Z"
   },
   {
    "duration": 10,
    "start_time": "2024-12-08T16:27:17.381Z"
   },
   {
    "duration": 21,
    "start_time": "2024-12-08T16:27:17.393Z"
   },
   {
    "duration": 349,
    "start_time": "2024-12-08T16:27:17.415Z"
   },
   {
    "duration": 9,
    "start_time": "2024-12-08T16:27:17.765Z"
   },
   {
    "duration": 8,
    "start_time": "2024-12-08T16:27:17.776Z"
   },
   {
    "duration": 6,
    "start_time": "2024-12-08T16:27:17.786Z"
   },
   {
    "duration": 52,
    "start_time": "2024-12-08T16:27:17.794Z"
   },
   {
    "duration": 16,
    "start_time": "2024-12-08T16:27:17.863Z"
   },
   {
    "duration": 18,
    "start_time": "2024-12-08T16:27:17.880Z"
   },
   {
    "duration": 5,
    "start_time": "2024-12-08T16:27:17.899Z"
   },
   {
    "duration": 7,
    "start_time": "2024-12-08T16:27:17.905Z"
   },
   {
    "duration": 4,
    "start_time": "2024-12-08T16:27:17.914Z"
   },
   {
    "duration": 13,
    "start_time": "2024-12-08T16:27:17.920Z"
   },
   {
    "duration": 30,
    "start_time": "2024-12-08T16:27:17.934Z"
   },
   {
    "duration": 242,
    "start_time": "2024-12-08T16:29:33.802Z"
   },
   {
    "duration": 199,
    "start_time": "2024-12-08T16:29:52.855Z"
   },
   {
    "duration": 213,
    "start_time": "2024-12-08T16:30:01.461Z"
   },
   {
    "duration": 214,
    "start_time": "2024-12-08T16:30:08.734Z"
   },
   {
    "duration": 195,
    "start_time": "2024-12-08T16:30:50.796Z"
   },
   {
    "duration": 192,
    "start_time": "2024-12-08T16:31:24.751Z"
   },
   {
    "duration": 226,
    "start_time": "2024-12-08T16:31:58.392Z"
   },
   {
    "duration": 394,
    "start_time": "2024-12-08T16:34:16.560Z"
   },
   {
    "duration": 331,
    "start_time": "2024-12-08T16:34:32.433Z"
   },
   {
    "duration": 1513,
    "start_time": "2024-12-08T16:54:31.323Z"
   },
   {
    "duration": 100,
    "start_time": "2024-12-08T17:11:32.266Z"
   },
   {
    "duration": 42,
    "start_time": "2024-12-08T17:12:16.956Z"
   },
   {
    "duration": 101,
    "start_time": "2024-12-08T17:13:10.327Z"
   },
   {
    "duration": 94,
    "start_time": "2024-12-08T17:13:33.692Z"
   },
   {
    "duration": 1696,
    "start_time": "2024-12-08T17:14:12.443Z"
   },
   {
    "duration": 811,
    "start_time": "2024-12-08T17:14:36.038Z"
   },
   {
    "duration": 1965,
    "start_time": "2024-12-08T17:14:48.800Z"
   },
   {
    "duration": 97,
    "start_time": "2024-12-08T17:14:51.891Z"
   },
   {
    "duration": 1707,
    "start_time": "2024-12-08T17:14:55.472Z"
   },
   {
    "duration": 101,
    "start_time": "2024-12-08T18:09:55.393Z"
   },
   {
    "duration": 91,
    "start_time": "2024-12-08T18:10:15.289Z"
   },
   {
    "duration": 6,
    "start_time": "2024-12-08T18:25:13.101Z"
   },
   {
    "duration": 6,
    "start_time": "2024-12-08T18:25:57.151Z"
   },
   {
    "duration": 11,
    "start_time": "2024-12-08T18:26:55.308Z"
   },
   {
    "duration": 15,
    "start_time": "2024-12-08T18:27:49.891Z"
   },
   {
    "duration": 143,
    "start_time": "2024-12-08T18:29:15.619Z"
   },
   {
    "duration": 172,
    "start_time": "2024-12-08T18:29:29.039Z"
   },
   {
    "duration": 155,
    "start_time": "2024-12-08T18:33:25.830Z"
   },
   {
    "duration": 1797,
    "start_time": "2024-12-08T18:33:48.620Z"
   },
   {
    "duration": 1730,
    "start_time": "2024-12-08T18:34:11.402Z"
   },
   {
    "duration": 298,
    "start_time": "2024-12-08T18:34:40.995Z"
   },
   {
    "duration": 213,
    "start_time": "2024-12-08T18:34:50.221Z"
   },
   {
    "duration": 220,
    "start_time": "2024-12-08T18:39:58.453Z"
   },
   {
    "duration": 1783,
    "start_time": "2024-12-08T18:40:10.795Z"
   },
   {
    "duration": 292,
    "start_time": "2024-12-08T18:43:12.750Z"
   },
   {
    "duration": 131,
    "start_time": "2024-12-08T19:57:35.667Z"
   },
   {
    "duration": 3,
    "start_time": "2024-12-08T19:57:59.367Z"
   },
   {
    "duration": 13,
    "start_time": "2024-12-08T19:57:59.372Z"
   },
   {
    "duration": 85,
    "start_time": "2024-12-08T19:57:59.387Z"
   },
   {
    "duration": 8,
    "start_time": "2024-12-08T19:57:59.474Z"
   },
   {
    "duration": 11,
    "start_time": "2024-12-08T19:57:59.484Z"
   },
   {
    "duration": 8,
    "start_time": "2024-12-08T19:57:59.497Z"
   },
   {
    "duration": 13,
    "start_time": "2024-12-08T19:57:59.507Z"
   },
   {
    "duration": 44,
    "start_time": "2024-12-08T19:57:59.522Z"
   },
   {
    "duration": 11,
    "start_time": "2024-12-08T19:57:59.568Z"
   },
   {
    "duration": 4,
    "start_time": "2024-12-08T19:57:59.581Z"
   },
   {
    "duration": 8,
    "start_time": "2024-12-08T19:57:59.588Z"
   },
   {
    "duration": 15,
    "start_time": "2024-12-08T19:57:59.597Z"
   },
   {
    "duration": 10,
    "start_time": "2024-12-08T19:57:59.613Z"
   },
   {
    "duration": 10,
    "start_time": "2024-12-08T19:57:59.624Z"
   },
   {
    "duration": 32,
    "start_time": "2024-12-08T19:57:59.635Z"
   },
   {
    "duration": 7,
    "start_time": "2024-12-08T19:57:59.668Z"
   },
   {
    "duration": 4,
    "start_time": "2024-12-08T19:57:59.677Z"
   },
   {
    "duration": 7,
    "start_time": "2024-12-08T19:57:59.682Z"
   },
   {
    "duration": 4,
    "start_time": "2024-12-08T19:57:59.691Z"
   },
   {
    "duration": 10,
    "start_time": "2024-12-08T19:57:59.697Z"
   },
   {
    "duration": 53,
    "start_time": "2024-12-08T19:57:59.709Z"
   },
   {
    "duration": 6,
    "start_time": "2024-12-08T19:57:59.764Z"
   },
   {
    "duration": 5,
    "start_time": "2024-12-08T19:57:59.771Z"
   },
   {
    "duration": 4,
    "start_time": "2024-12-08T19:57:59.778Z"
   },
   {
    "duration": 4,
    "start_time": "2024-12-08T19:57:59.784Z"
   },
   {
    "duration": 16,
    "start_time": "2024-12-08T19:57:59.790Z"
   },
   {
    "duration": 207,
    "start_time": "2024-12-08T19:57:59.808Z"
   },
   {
    "duration": 15,
    "start_time": "2024-12-08T19:58:00.017Z"
   },
   {
    "duration": 154,
    "start_time": "2024-12-08T19:58:00.037Z"
   },
   {
    "duration": 12,
    "start_time": "2024-12-08T19:58:00.193Z"
   },
   {
    "duration": 217,
    "start_time": "2024-12-08T19:58:00.207Z"
   },
   {
    "duration": 237,
    "start_time": "2024-12-08T19:58:00.427Z"
   },
   {
    "duration": 14,
    "start_time": "2024-12-08T19:58:00.666Z"
   },
   {
    "duration": 227,
    "start_time": "2024-12-08T19:58:00.685Z"
   },
   {
    "duration": 269,
    "start_time": "2024-12-08T19:58:00.914Z"
   },
   {
    "duration": 10,
    "start_time": "2024-12-08T19:58:01.185Z"
   },
   {
    "duration": 50,
    "start_time": "2024-12-08T19:58:01.197Z"
   },
   {
    "duration": 4,
    "start_time": "2024-12-08T19:58:01.250Z"
   },
   {
    "duration": 18,
    "start_time": "2024-12-08T19:58:01.263Z"
   },
   {
    "duration": 14,
    "start_time": "2024-12-08T19:58:01.283Z"
   },
   {
    "duration": 40,
    "start_time": "2024-12-08T19:58:01.298Z"
   },
   {
    "duration": 368,
    "start_time": "2024-12-08T19:58:01.340Z"
   },
   {
    "duration": 9,
    "start_time": "2024-12-08T19:58:01.710Z"
   },
   {
    "duration": 25,
    "start_time": "2024-12-08T19:58:01.721Z"
   },
   {
    "duration": 364,
    "start_time": "2024-12-08T19:58:01.748Z"
   },
   {
    "duration": 9,
    "start_time": "2024-12-08T19:58:02.114Z"
   },
   {
    "duration": 48,
    "start_time": "2024-12-08T19:58:02.125Z"
   },
   {
    "duration": 5,
    "start_time": "2024-12-08T19:58:02.175Z"
   },
   {
    "duration": 47,
    "start_time": "2024-12-08T19:58:02.182Z"
   },
   {
    "duration": 37,
    "start_time": "2024-12-08T19:58:02.231Z"
   },
   {
    "duration": 58,
    "start_time": "2024-12-08T19:58:02.270Z"
   },
   {
    "duration": 25,
    "start_time": "2024-12-08T19:58:02.330Z"
   },
   {
    "duration": 84,
    "start_time": "2024-12-08T19:58:02.357Z"
   },
   {
    "duration": 84,
    "start_time": "2024-12-08T19:58:02.443Z"
   },
   {
    "duration": 71,
    "start_time": "2024-12-08T19:58:02.529Z"
   },
   {
    "duration": 44,
    "start_time": "2024-12-08T19:58:02.603Z"
   },
   {
    "duration": 1766,
    "start_time": "2024-12-08T19:58:02.650Z"
   },
   {
    "duration": 293,
    "start_time": "2024-12-08T19:58:04.418Z"
   },
   {
    "duration": 253,
    "start_time": "2024-12-08T19:58:04.712Z"
   },
   {
    "duration": 1503,
    "start_time": "2024-12-09T19:26:25.487Z"
   },
   {
    "duration": 4,
    "start_time": "2024-12-09T19:26:26.992Z"
   },
   {
    "duration": 285,
    "start_time": "2024-12-09T19:26:26.997Z"
   },
   {
    "duration": 12,
    "start_time": "2024-12-09T19:26:27.284Z"
   },
   {
    "duration": 10,
    "start_time": "2024-12-09T19:26:27.297Z"
   },
   {
    "duration": 6,
    "start_time": "2024-12-09T19:26:27.308Z"
   },
   {
    "duration": 10,
    "start_time": "2024-12-09T19:26:27.316Z"
   },
   {
    "duration": 9,
    "start_time": "2024-12-09T19:26:27.328Z"
   },
   {
    "duration": 31,
    "start_time": "2024-12-09T19:26:27.339Z"
   },
   {
    "duration": 5,
    "start_time": "2024-12-09T19:26:27.373Z"
   },
   {
    "duration": 8,
    "start_time": "2024-12-09T19:26:27.380Z"
   },
   {
    "duration": 10,
    "start_time": "2024-12-09T19:26:27.389Z"
   },
   {
    "duration": 7,
    "start_time": "2024-12-09T19:26:27.400Z"
   },
   {
    "duration": 5,
    "start_time": "2024-12-09T19:26:27.409Z"
   },
   {
    "duration": 6,
    "start_time": "2024-12-09T19:26:27.415Z"
   },
   {
    "duration": 6,
    "start_time": "2024-12-09T19:26:27.422Z"
   },
   {
    "duration": 42,
    "start_time": "2024-12-09T19:26:27.429Z"
   },
   {
    "duration": 5,
    "start_time": "2024-12-09T19:26:27.473Z"
   },
   {
    "duration": 4,
    "start_time": "2024-12-09T19:26:27.479Z"
   },
   {
    "duration": 6,
    "start_time": "2024-12-09T19:26:27.484Z"
   },
   {
    "duration": 13,
    "start_time": "2024-12-09T19:26:27.491Z"
   },
   {
    "duration": 3,
    "start_time": "2024-12-09T19:26:27.506Z"
   },
   {
    "duration": 7,
    "start_time": "2024-12-09T19:26:27.511Z"
   },
   {
    "duration": 12,
    "start_time": "2024-12-09T19:26:27.520Z"
   },
   {
    "duration": 4,
    "start_time": "2024-12-09T19:26:27.534Z"
   },
   {
    "duration": 40,
    "start_time": "2024-12-09T19:26:27.539Z"
   },
   {
    "duration": 173,
    "start_time": "2024-12-09T19:26:27.581Z"
   },
   {
    "duration": 15,
    "start_time": "2024-12-09T19:26:27.757Z"
   },
   {
    "duration": 131,
    "start_time": "2024-12-09T19:26:27.774Z"
   },
   {
    "duration": 12,
    "start_time": "2024-12-09T19:26:27.906Z"
   },
   {
    "duration": 197,
    "start_time": "2024-12-09T19:26:27.920Z"
   },
   {
    "duration": 196,
    "start_time": "2024-12-09T19:26:28.119Z"
   },
   {
    "duration": 9,
    "start_time": "2024-12-09T19:26:28.316Z"
   },
   {
    "duration": 174,
    "start_time": "2024-12-09T19:26:28.327Z"
   },
   {
    "duration": 219,
    "start_time": "2024-12-09T19:26:28.502Z"
   },
   {
    "duration": 9,
    "start_time": "2024-12-09T19:26:28.722Z"
   },
   {
    "duration": 41,
    "start_time": "2024-12-09T19:26:28.732Z"
   },
   {
    "duration": 3,
    "start_time": "2024-12-09T19:26:28.774Z"
   },
   {
    "duration": 12,
    "start_time": "2024-12-09T19:26:28.779Z"
   },
   {
    "duration": 12,
    "start_time": "2024-12-09T19:26:28.792Z"
   },
   {
    "duration": 13,
    "start_time": "2024-12-09T19:26:28.805Z"
   },
   {
    "duration": 388,
    "start_time": "2024-12-09T19:26:28.820Z"
   },
   {
    "duration": 8,
    "start_time": "2024-12-09T19:26:29.209Z"
   },
   {
    "duration": 8,
    "start_time": "2024-12-09T19:26:29.219Z"
   },
   {
    "duration": 327,
    "start_time": "2024-12-09T19:26:29.228Z"
   },
   {
    "duration": 17,
    "start_time": "2024-12-09T19:26:29.557Z"
   },
   {
    "duration": 9,
    "start_time": "2024-12-09T19:26:29.576Z"
   },
   {
    "duration": 4,
    "start_time": "2024-12-09T19:26:29.587Z"
   },
   {
    "duration": 43,
    "start_time": "2024-12-09T19:26:29.593Z"
   },
   {
    "duration": 45,
    "start_time": "2024-12-09T19:26:29.638Z"
   },
   {
    "duration": 100,
    "start_time": "2024-12-09T19:26:29.685Z"
   },
   {
    "duration": 4,
    "start_time": "2024-12-09T19:26:29.786Z"
   },
   {
    "duration": 5,
    "start_time": "2024-12-09T19:26:29.792Z"
   },
   {
    "duration": 5,
    "start_time": "2024-12-09T19:26:29.798Z"
   },
   {
    "duration": 13,
    "start_time": "2024-12-09T19:26:29.804Z"
   },
   {
    "duration": 5,
    "start_time": "2024-12-09T19:26:29.818Z"
   },
   {
    "duration": 1493,
    "start_time": "2024-12-09T19:26:29.825Z"
   },
   {
    "duration": 98,
    "start_time": "2024-12-09T19:26:31.320Z"
   },
   {
    "duration": 309,
    "start_time": "2024-12-09T19:26:31.420Z"
   },
   {
    "duration": 84,
    "start_time": "2024-12-09T19:31:08.651Z"
   },
   {
    "duration": 4,
    "start_time": "2024-12-09T19:31:19.630Z"
   },
   {
    "duration": 10,
    "start_time": "2024-12-09T19:39:50.841Z"
   },
   {
    "duration": 20,
    "start_time": "2024-12-09T19:41:49.660Z"
   },
   {
    "duration": 12,
    "start_time": "2024-12-09T19:42:28.603Z"
   },
   {
    "duration": 107,
    "start_time": "2024-12-09T19:44:19.123Z"
   },
   {
    "duration": 7,
    "start_time": "2024-12-09T19:46:28.598Z"
   },
   {
    "duration": 8,
    "start_time": "2024-12-09T19:46:51.574Z"
   },
   {
    "duration": 8,
    "start_time": "2024-12-09T19:47:12.151Z"
   },
   {
    "duration": 8,
    "start_time": "2024-12-09T19:48:24.134Z"
   },
   {
    "duration": 11,
    "start_time": "2024-12-09T19:49:54.142Z"
   },
   {
    "duration": 16,
    "start_time": "2024-12-09T19:52:16.676Z"
   },
   {
    "duration": 14,
    "start_time": "2024-12-09T19:52:29.344Z"
   },
   {
    "duration": 12,
    "start_time": "2024-12-09T19:53:31.500Z"
   },
   {
    "duration": 17,
    "start_time": "2024-12-09T19:55:46.401Z"
   },
   {
    "duration": 12,
    "start_time": "2024-12-09T19:55:55.248Z"
   },
   {
    "duration": 12,
    "start_time": "2024-12-09T19:56:28.595Z"
   },
   {
    "duration": 12,
    "start_time": "2024-12-09T19:57:08.164Z"
   },
   {
    "duration": 104,
    "start_time": "2024-12-09T20:02:20.020Z"
   },
   {
    "duration": 85,
    "start_time": "2024-12-09T20:03:14.323Z"
   },
   {
    "duration": 89,
    "start_time": "2024-12-09T20:03:29.675Z"
   },
   {
    "duration": 91,
    "start_time": "2024-12-09T20:03:56.048Z"
   },
   {
    "duration": 5,
    "start_time": "2024-12-09T20:04:34.742Z"
   },
   {
    "duration": 96,
    "start_time": "2024-12-09T20:04:34.749Z"
   },
   {
    "duration": 9,
    "start_time": "2024-12-09T20:04:34.847Z"
   },
   {
    "duration": 9,
    "start_time": "2024-12-09T20:04:34.858Z"
   },
   {
    "duration": 21,
    "start_time": "2024-12-09T20:04:34.869Z"
   },
   {
    "duration": 45,
    "start_time": "2024-12-09T20:04:34.891Z"
   },
   {
    "duration": 20,
    "start_time": "2024-12-09T20:04:34.938Z"
   },
   {
    "duration": 10,
    "start_time": "2024-12-09T20:04:34.960Z"
   },
   {
    "duration": 6,
    "start_time": "2024-12-09T20:04:34.973Z"
   },
   {
    "duration": 10,
    "start_time": "2024-12-09T20:04:34.981Z"
   },
   {
    "duration": 40,
    "start_time": "2024-12-09T20:04:34.993Z"
   },
   {
    "duration": 19,
    "start_time": "2024-12-09T20:04:35.035Z"
   },
   {
    "duration": 13,
    "start_time": "2024-12-09T20:04:35.056Z"
   },
   {
    "duration": 9,
    "start_time": "2024-12-09T20:04:35.071Z"
   },
   {
    "duration": 31,
    "start_time": "2024-12-09T20:04:35.081Z"
   },
   {
    "duration": 26,
    "start_time": "2024-12-09T20:04:35.114Z"
   },
   {
    "duration": 12,
    "start_time": "2024-12-09T20:04:35.142Z"
   },
   {
    "duration": 4,
    "start_time": "2024-12-09T20:04:35.156Z"
   },
   {
    "duration": 26,
    "start_time": "2024-12-09T20:04:35.162Z"
   },
   {
    "duration": 32,
    "start_time": "2024-12-09T20:04:35.190Z"
   },
   {
    "duration": 85,
    "start_time": "2024-12-09T20:04:35.224Z"
   },
   {
    "duration": 26,
    "start_time": "2024-12-09T20:04:35.311Z"
   },
   {
    "duration": 18,
    "start_time": "2024-12-09T20:04:35.343Z"
   },
   {
    "duration": 5,
    "start_time": "2024-12-09T20:04:35.367Z"
   },
   {
    "duration": 24,
    "start_time": "2024-12-09T20:04:35.374Z"
   },
   {
    "duration": 27,
    "start_time": "2024-12-09T20:04:35.399Z"
   },
   {
    "duration": 9,
    "start_time": "2024-12-09T20:04:35.428Z"
   },
   {
    "duration": 31,
    "start_time": "2024-12-09T20:04:35.439Z"
   },
   {
    "duration": 15,
    "start_time": "2024-12-09T20:04:35.473Z"
   },
   {
    "duration": 16,
    "start_time": "2024-12-09T20:04:35.490Z"
   },
   {
    "duration": 40,
    "start_time": "2024-12-09T20:04:35.508Z"
   },
   {
    "duration": 165,
    "start_time": "2024-12-09T20:04:35.550Z"
   },
   {
    "duration": 13,
    "start_time": "2024-12-09T20:04:35.716Z"
   },
   {
    "duration": 124,
    "start_time": "2024-12-09T20:04:35.731Z"
   },
   {
    "duration": 22,
    "start_time": "2024-12-09T20:04:35.857Z"
   },
   {
    "duration": 407,
    "start_time": "2024-12-09T20:04:35.881Z"
   },
   {
    "duration": 210,
    "start_time": "2024-12-09T20:04:36.290Z"
   },
   {
    "duration": 9,
    "start_time": "2024-12-09T20:04:36.502Z"
   },
   {
    "duration": 205,
    "start_time": "2024-12-09T20:04:36.513Z"
   },
   {
    "duration": 227,
    "start_time": "2024-12-09T20:04:36.720Z"
   },
   {
    "duration": 21,
    "start_time": "2024-12-09T20:04:36.950Z"
   },
   {
    "duration": 50,
    "start_time": "2024-12-09T20:04:36.973Z"
   },
   {
    "duration": 4,
    "start_time": "2024-12-09T20:04:37.024Z"
   },
   {
    "duration": 37,
    "start_time": "2024-12-09T20:04:37.029Z"
   },
   {
    "duration": 45,
    "start_time": "2024-12-09T20:04:37.068Z"
   },
   {
    "duration": 26,
    "start_time": "2024-12-09T20:04:37.115Z"
   },
   {
    "duration": 318,
    "start_time": "2024-12-09T20:04:37.142Z"
   },
   {
    "duration": 15,
    "start_time": "2024-12-09T20:04:37.461Z"
   },
   {
    "duration": 35,
    "start_time": "2024-12-09T20:04:37.478Z"
   },
   {
    "duration": 308,
    "start_time": "2024-12-09T20:04:37.514Z"
   },
   {
    "duration": 8,
    "start_time": "2024-12-09T20:04:37.823Z"
   },
   {
    "duration": 118,
    "start_time": "2024-12-09T20:04:37.833Z"
   },
   {
    "duration": 16,
    "start_time": "2024-12-09T20:04:37.953Z"
   },
   {
    "duration": 68,
    "start_time": "2024-12-09T20:04:37.971Z"
   },
   {
    "duration": 33,
    "start_time": "2024-12-09T20:04:38.041Z"
   },
   {
    "duration": 5,
    "start_time": "2024-12-09T20:04:38.076Z"
   },
   {
    "duration": 24,
    "start_time": "2024-12-09T20:04:38.082Z"
   },
   {
    "duration": 10,
    "start_time": "2024-12-09T20:04:38.107Z"
   },
   {
    "duration": 12,
    "start_time": "2024-12-09T20:04:38.118Z"
   },
   {
    "duration": 17,
    "start_time": "2024-12-09T20:04:38.131Z"
   },
   {
    "duration": 20,
    "start_time": "2024-12-09T20:04:38.150Z"
   },
   {
    "duration": 1555,
    "start_time": "2024-12-09T20:04:38.172Z"
   },
   {
    "duration": 90,
    "start_time": "2024-12-09T20:04:39.729Z"
   },
   {
    "duration": 249,
    "start_time": "2024-12-09T20:04:39.821Z"
   },
   {
    "duration": 4,
    "start_time": "2024-12-09T20:06:31.618Z"
   },
   {
    "duration": 85,
    "start_time": "2024-12-09T20:06:31.625Z"
   },
   {
    "duration": 9,
    "start_time": "2024-12-09T20:06:31.712Z"
   },
   {
    "duration": 18,
    "start_time": "2024-12-09T20:06:31.722Z"
   },
   {
    "duration": 17,
    "start_time": "2024-12-09T20:06:31.742Z"
   },
   {
    "duration": 15,
    "start_time": "2024-12-09T20:06:31.760Z"
   },
   {
    "duration": 12,
    "start_time": "2024-12-09T20:06:31.777Z"
   },
   {
    "duration": 8,
    "start_time": "2024-12-09T20:06:31.791Z"
   },
   {
    "duration": 19,
    "start_time": "2024-12-09T20:06:31.801Z"
   },
   {
    "duration": 33,
    "start_time": "2024-12-09T20:06:31.821Z"
   },
   {
    "duration": 20,
    "start_time": "2024-12-09T20:06:31.857Z"
   },
   {
    "duration": 76,
    "start_time": "2024-12-09T20:06:31.879Z"
   },
   {
    "duration": 11,
    "start_time": "2024-12-09T20:06:31.957Z"
   },
   {
    "duration": 10,
    "start_time": "2024-12-09T20:06:31.969Z"
   },
   {
    "duration": 20,
    "start_time": "2024-12-09T20:06:31.980Z"
   },
   {
    "duration": 17,
    "start_time": "2024-12-09T20:06:32.002Z"
   },
   {
    "duration": 25,
    "start_time": "2024-12-09T20:06:32.020Z"
   },
   {
    "duration": 13,
    "start_time": "2024-12-09T20:06:32.047Z"
   },
   {
    "duration": 34,
    "start_time": "2024-12-09T20:06:32.061Z"
   },
   {
    "duration": 14,
    "start_time": "2024-12-09T20:06:32.096Z"
   },
   {
    "duration": 33,
    "start_time": "2024-12-09T20:06:32.111Z"
   },
   {
    "duration": 14,
    "start_time": "2024-12-09T20:06:32.145Z"
   },
   {
    "duration": 8,
    "start_time": "2024-12-09T20:06:32.161Z"
   },
   {
    "duration": 105,
    "start_time": "2024-12-09T20:06:32.170Z"
   },
   {
    "duration": 8,
    "start_time": "2024-12-09T20:06:32.277Z"
   },
   {
    "duration": 12,
    "start_time": "2024-12-09T20:06:32.287Z"
   },
   {
    "duration": 7,
    "start_time": "2024-12-09T20:06:32.301Z"
   },
   {
    "duration": 15,
    "start_time": "2024-12-09T20:06:32.310Z"
   },
   {
    "duration": 24,
    "start_time": "2024-12-09T20:06:32.329Z"
   },
   {
    "duration": 20,
    "start_time": "2024-12-09T20:06:32.370Z"
   },
   {
    "duration": 17,
    "start_time": "2024-12-09T20:06:32.392Z"
   },
   {
    "duration": 180,
    "start_time": "2024-12-09T20:06:32.411Z"
   },
   {
    "duration": 11,
    "start_time": "2024-12-09T20:06:32.592Z"
   },
   {
    "duration": 227,
    "start_time": "2024-12-09T20:06:32.605Z"
   },
   {
    "duration": 12,
    "start_time": "2024-12-09T20:06:32.833Z"
   },
   {
    "duration": 219,
    "start_time": "2024-12-09T20:06:32.846Z"
   },
   {
    "duration": 208,
    "start_time": "2024-12-09T20:06:33.066Z"
   },
   {
    "duration": 9,
    "start_time": "2024-12-09T20:06:33.276Z"
   },
   {
    "duration": 201,
    "start_time": "2024-12-09T20:06:33.287Z"
   },
   {
    "duration": 222,
    "start_time": "2024-12-09T20:06:33.490Z"
   },
   {
    "duration": 8,
    "start_time": "2024-12-09T20:06:33.714Z"
   },
   {
    "duration": 25,
    "start_time": "2024-12-09T20:06:33.724Z"
   },
   {
    "duration": 20,
    "start_time": "2024-12-09T20:06:33.750Z"
   },
   {
    "duration": 19,
    "start_time": "2024-12-09T20:06:33.772Z"
   },
   {
    "duration": 12,
    "start_time": "2024-12-09T20:06:33.793Z"
   },
   {
    "duration": 75,
    "start_time": "2024-12-09T20:06:33.807Z"
   },
   {
    "duration": 391,
    "start_time": "2024-12-09T20:06:33.884Z"
   },
   {
    "duration": 9,
    "start_time": "2024-12-09T20:06:34.277Z"
   },
   {
    "duration": 19,
    "start_time": "2024-12-09T20:06:34.288Z"
   },
   {
    "duration": 340,
    "start_time": "2024-12-09T20:06:34.309Z"
   },
   {
    "duration": 8,
    "start_time": "2024-12-09T20:06:34.651Z"
   },
   {
    "duration": 14,
    "start_time": "2024-12-09T20:06:34.660Z"
   },
   {
    "duration": 4,
    "start_time": "2024-12-09T20:06:34.675Z"
   },
   {
    "duration": 41,
    "start_time": "2024-12-09T20:06:34.681Z"
   },
   {
    "duration": 14,
    "start_time": "2024-12-09T20:06:34.723Z"
   },
   {
    "duration": 33,
    "start_time": "2024-12-09T20:06:34.739Z"
   },
   {
    "duration": 5,
    "start_time": "2024-12-09T20:06:34.774Z"
   },
   {
    "duration": 6,
    "start_time": "2024-12-09T20:06:34.780Z"
   },
   {
    "duration": 5,
    "start_time": "2024-12-09T20:06:34.787Z"
   },
   {
    "duration": 46,
    "start_time": "2024-12-09T20:06:34.794Z"
   },
   {
    "duration": 11,
    "start_time": "2024-12-09T20:06:34.841Z"
   },
   {
    "duration": 1513,
    "start_time": "2024-12-09T20:06:34.854Z"
   },
   {
    "duration": 86,
    "start_time": "2024-12-09T20:06:36.371Z"
   },
   {
    "duration": 275,
    "start_time": "2024-12-09T20:06:36.459Z"
   },
   {
    "duration": 1257,
    "start_time": "2025-03-12T15:17:24.371Z"
   },
   {
    "duration": 59,
    "start_time": "2025-03-12T15:17:25.630Z"
   },
   {
    "duration": 12,
    "start_time": "2025-03-12T15:17:25.691Z"
   },
   {
    "duration": 40,
    "start_time": "2025-03-12T15:17:25.704Z"
   },
   {
    "duration": 6,
    "start_time": "2025-03-12T15:17:25.747Z"
   },
   {
    "duration": 10,
    "start_time": "2025-03-12T15:17:25.754Z"
   },
   {
    "duration": 9,
    "start_time": "2025-03-12T15:17:25.766Z"
   },
   {
    "duration": 6,
    "start_time": "2025-03-12T15:17:25.777Z"
   },
   {
    "duration": 6,
    "start_time": "2025-03-12T15:17:25.784Z"
   },
   {
    "duration": 8,
    "start_time": "2025-03-12T15:17:25.791Z"
   },
   {
    "duration": 20,
    "start_time": "2025-03-12T15:17:25.801Z"
   },
   {
    "duration": 67,
    "start_time": "2025-03-12T15:17:25.823Z"
   },
   {
    "duration": 10,
    "start_time": "2025-03-12T15:17:25.891Z"
   },
   {
    "duration": 5,
    "start_time": "2025-03-12T15:17:25.906Z"
   },
   {
    "duration": 6,
    "start_time": "2025-03-12T15:17:25.913Z"
   },
   {
    "duration": 4,
    "start_time": "2025-03-12T15:17:25.921Z"
   },
   {
    "duration": 5,
    "start_time": "2025-03-12T15:17:25.926Z"
   },
   {
    "duration": 4,
    "start_time": "2025-03-12T15:17:25.932Z"
   },
   {
    "duration": 5,
    "start_time": "2025-03-12T15:17:25.938Z"
   },
   {
    "duration": 7,
    "start_time": "2025-03-12T15:17:25.945Z"
   },
   {
    "duration": 5,
    "start_time": "2025-03-12T15:17:25.954Z"
   },
   {
    "duration": 4,
    "start_time": "2025-03-12T15:17:25.960Z"
   },
   {
    "duration": 4,
    "start_time": "2025-03-12T15:17:26.014Z"
   },
   {
    "duration": 5,
    "start_time": "2025-03-12T15:17:26.019Z"
   },
   {
    "duration": 9,
    "start_time": "2025-03-12T15:17:26.026Z"
   },
   {
    "duration": 14,
    "start_time": "2025-03-12T15:17:26.036Z"
   },
   {
    "duration": 8,
    "start_time": "2025-03-12T15:17:26.052Z"
   },
   {
    "duration": 29,
    "start_time": "2025-03-12T15:17:26.062Z"
   },
   {
    "duration": 35,
    "start_time": "2025-03-12T15:17:26.092Z"
   },
   {
    "duration": 13,
    "start_time": "2025-03-12T15:17:26.129Z"
   },
   {
    "duration": 12,
    "start_time": "2025-03-12T15:17:26.144Z"
   },
   {
    "duration": 206,
    "start_time": "2025-03-12T15:17:26.158Z"
   },
   {
    "duration": 12,
    "start_time": "2025-03-12T15:17:26.366Z"
   },
   {
    "duration": 203,
    "start_time": "2025-03-12T15:17:26.379Z"
   },
   {
    "duration": 13,
    "start_time": "2025-03-12T15:17:26.584Z"
   },
   {
    "duration": 194,
    "start_time": "2025-03-12T15:17:26.598Z"
   },
   {
    "duration": 199,
    "start_time": "2025-03-12T15:17:26.793Z"
   },
   {
    "duration": 7,
    "start_time": "2025-03-12T15:17:26.994Z"
   },
   {
    "duration": 165,
    "start_time": "2025-03-12T15:17:27.013Z"
   },
   {
    "duration": 227,
    "start_time": "2025-03-12T15:17:27.180Z"
   },
   {
    "duration": 10,
    "start_time": "2025-03-12T15:17:27.413Z"
   },
   {
    "duration": 28,
    "start_time": "2025-03-12T15:17:27.425Z"
   },
   {
    "duration": 4,
    "start_time": "2025-03-12T15:17:27.455Z"
   },
   {
    "duration": 52,
    "start_time": "2025-03-12T15:17:27.462Z"
   },
   {
    "duration": 14,
    "start_time": "2025-03-12T15:17:27.516Z"
   },
   {
    "duration": 14,
    "start_time": "2025-03-12T15:17:27.533Z"
   },
   {
    "duration": 443,
    "start_time": "2025-03-12T15:17:27.549Z"
   },
   {
    "duration": 22,
    "start_time": "2025-03-12T15:17:27.994Z"
   },
   {
    "duration": 9,
    "start_time": "2025-03-12T15:17:28.018Z"
   },
   {
    "duration": 368,
    "start_time": "2025-03-12T15:17:28.028Z"
   },
   {
    "duration": 18,
    "start_time": "2025-03-12T15:17:28.398Z"
   },
   {
    "duration": 9,
    "start_time": "2025-03-12T15:17:28.417Z"
   },
   {
    "duration": 6,
    "start_time": "2025-03-12T15:17:28.428Z"
   },
   {
    "duration": 43,
    "start_time": "2025-03-12T15:17:28.436Z"
   },
   {
    "duration": 42,
    "start_time": "2025-03-12T15:17:28.483Z"
   },
   {
    "duration": 56,
    "start_time": "2025-03-12T15:17:28.527Z"
   },
   {
    "duration": 6,
    "start_time": "2025-03-12T15:17:28.584Z"
   },
   {
    "duration": 18,
    "start_time": "2025-03-12T15:17:28.592Z"
   },
   {
    "duration": 6,
    "start_time": "2025-03-12T15:17:28.612Z"
   },
   {
    "duration": 15,
    "start_time": "2025-03-12T15:17:28.620Z"
   },
   {
    "duration": 5,
    "start_time": "2025-03-12T15:17:28.637Z"
   },
   {
    "duration": 1555,
    "start_time": "2025-03-12T15:17:28.644Z"
   },
   {
    "duration": 93,
    "start_time": "2025-03-12T15:17:30.201Z"
   },
   {
    "duration": 280,
    "start_time": "2025-03-12T15:17:30.296Z"
   }
  ],
  "kernelspec": {
   "display_name": "Python 3 (ipykernel)",
   "language": "python",
   "name": "python3"
  },
  "language_info": {
   "codemirror_mode": {
    "name": "ipython",
    "version": 3
   },
   "file_extension": ".py",
   "mimetype": "text/x-python",
   "name": "python",
   "nbconvert_exporter": "python",
   "pygments_lexer": "ipython3",
   "version": "3.9.5"
  },
  "toc": {
   "base_numbering": 1,
   "nav_menu": {},
   "number_sections": true,
   "sideBar": true,
   "skip_h1_title": true,
   "title_cell": "Table of Contents",
   "title_sidebar": "Contents",
   "toc_cell": false,
   "toc_position": {},
   "toc_section_display": true,
   "toc_window_display": false
  }
 },
 "nbformat": 4,
 "nbformat_minor": 5
}
